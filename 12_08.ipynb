{
  "nbformat": 4,
  "nbformat_minor": 0,
  "metadata": {
    "colab": {
      "provenance": []
    },
    "kernelspec": {
      "name": "python3",
      "display_name": "Python 3"
    },
    "language_info": {
      "name": "python"
    }
  },
  "cells": [
    {
      "cell_type": "markdown",
      "source": [
        "# Reverse Integer"
      ],
      "metadata": {
        "id": "X9zN77NzLQ7v"
      }
    },
    {
      "cell_type": "markdown",
      "source": [
        "Division-based solution"
      ],
      "metadata": {
        "id": "9ZHm58OHLe4V"
      }
    },
    {
      "cell_type": "code",
      "execution_count": null,
      "metadata": {
        "id": "HkIPuT1BDdIx"
      },
      "outputs": [],
      "source": [
        "def division(value):\n",
        "    new_value = 0\n",
        "\n",
        "    while (value != 0):\n",
        "        new_value = new_value * 10 + value % 10\n",
        "        value = value // 10\n",
        "\n",
        "    return new_value"
      ]
    },
    {
      "cell_type": "markdown",
      "source": [
        "String-based solution"
      ],
      "metadata": {
        "id": "5b8erSoyLowq"
      }
    },
    {
      "cell_type": "code",
      "source": [
        "def string(value):\n",
        "    value_str = str(value)\n",
        "\n",
        "    new_value_str = value_str[::-1]\n",
        "\n",
        "    return int(value_str[::-1])"
      ],
      "metadata": {
        "id": "3fWYGlO4EgJH"
      },
      "execution_count": null,
      "outputs": []
    },
    {
      "cell_type": "code",
      "source": [
        "value = int(input())\n",
        "\n",
        "print(division(value), string(value))"
      ],
      "metadata": {
        "colab": {
          "base_uri": "https://localhost:8080/",
          "height": 193
        },
        "id": "8XHoqxsiMDEz",
        "outputId": "4104efe8-0ce9-42e0-bb8f-7051917001c1"
      },
      "execution_count": null,
      "outputs": [
        {
          "name": "stdout",
          "output_type": "stream",
          "text": [
            "\n"
          ]
        },
        {
          "output_type": "error",
          "ename": "ValueError",
          "evalue": "invalid literal for int() with base 10: ''",
          "traceback": [
            "\u001b[0;31m---------------------------------------------------------------------------\u001b[0m",
            "\u001b[0;31mValueError\u001b[0m                                Traceback (most recent call last)",
            "\u001b[0;32m<ipython-input-4-4ec86adc8b07>\u001b[0m in \u001b[0;36m<cell line: 1>\u001b[0;34m()\u001b[0m\n\u001b[0;32m----> 1\u001b[0;31m \u001b[0mvalue\u001b[0m \u001b[0;34m=\u001b[0m \u001b[0mint\u001b[0m\u001b[0;34m(\u001b[0m\u001b[0minput\u001b[0m\u001b[0;34m(\u001b[0m\u001b[0;34m)\u001b[0m\u001b[0;34m)\u001b[0m\u001b[0;34m\u001b[0m\u001b[0;34m\u001b[0m\u001b[0m\n\u001b[0m\u001b[1;32m      2\u001b[0m \u001b[0;34m\u001b[0m\u001b[0m\n\u001b[1;32m      3\u001b[0m \u001b[0mprint\u001b[0m\u001b[0;34m(\u001b[0m\u001b[0mdivision\u001b[0m\u001b[0;34m(\u001b[0m\u001b[0mvalue\u001b[0m\u001b[0;34m)\u001b[0m\u001b[0;34m,\u001b[0m \u001b[0mstring\u001b[0m\u001b[0;34m(\u001b[0m\u001b[0mvalue\u001b[0m\u001b[0;34m)\u001b[0m\u001b[0;34m)\u001b[0m\u001b[0;34m\u001b[0m\u001b[0;34m\u001b[0m\u001b[0m\n",
            "\u001b[0;31mValueError\u001b[0m: invalid literal for int() with base 10: ''"
          ]
        }
      ]
    },
    {
      "cell_type": "code",
      "source": [
        "import random\n",
        "\n",
        "small = [random.randint(0, 2**8) for i in range(100000)]\n",
        "medium = [random.randint(2**8, 2**16) for i in range(100000)]\n",
        "long_ = [random.randint(2**16, 2**32) for i in range(100000)]\n",
        "long_long = [random.randint(2**32, 2**64) for i in range(100000)]\n",
        "extra = [random.randint(2**70, 2**100) for i in range(100000)]\n",
        "all = small + medium + long_ + long_long + extra"
      ],
      "metadata": {
        "id": "UGeEkHXhiO_r"
      },
      "execution_count": null,
      "outputs": []
    },
    {
      "cell_type": "code",
      "source": [
        "import time\n",
        "\n",
        "def check_time(reverse):\n",
        "    start = time.time()\n",
        "\n",
        "    for i in small:\n",
        "        reverse(i)\n",
        "\n",
        "    end = time.time() - start\n",
        "    print(\"small:\", end)\n",
        "\n",
        "    start = time.time()\n",
        "\n",
        "    for i in medium:\n",
        "        reverse(i)\n",
        "\n",
        "    end = time.time() - start\n",
        "    print(\"medium:\", end)\n",
        "\n",
        "    start = time.time()\n",
        "\n",
        "    for i in long_:\n",
        "        reverse(i)\n",
        "\n",
        "    end = time.time() - start\n",
        "    print(\"long_:\", end)\n",
        "\n",
        "    start = time.time()\n",
        "\n",
        "    for i in long_long:\n",
        "        reverse(i)\n",
        "\n",
        "    end = time.time() - start\n",
        "    print(\"long_long:\", end)\n",
        "\n",
        "    start = time.time()\n",
        "\n",
        "    for i in extra:\n",
        "        reverse(i)\n",
        "\n",
        "    end = time.time() - start\n",
        "    print(\"extra:\", end)\n",
        "\n",
        "    start = time.time()\n",
        "\n",
        "    for i in all:\n",
        "        reverse(i)\n",
        "\n",
        "    end = time.time() - start\n",
        "    print(\"all:\", end)"
      ],
      "metadata": {
        "id": "umUYp_c4ktA4"
      },
      "execution_count": null,
      "outputs": []
    },
    {
      "cell_type": "code",
      "source": [
        "check_time(string)"
      ],
      "metadata": {
        "colab": {
          "base_uri": "https://localhost:8080/"
        },
        "id": "aA0McAyIu2gg",
        "outputId": "0f41f414-7c2c-45fe-c9d1-1357d31f0124"
      },
      "execution_count": null,
      "outputs": [
        {
          "output_type": "stream",
          "name": "stdout",
          "text": [
            "small: 0.05957937240600586\n",
            "medium: 0.06644773483276367\n",
            "long_: 0.06357741355895996\n",
            "long_long: 0.0672299861907959\n",
            "extra: 0.08228516578674316\n",
            "all: 0.31875038146972656\n"
          ]
        }
      ]
    },
    {
      "cell_type": "code",
      "source": [
        "check_time(division)"
      ],
      "metadata": {
        "colab": {
          "base_uri": "https://localhost:8080/"
        },
        "id": "MEVerbPUvbic",
        "outputId": "3891868e-5035-4c03-dc28-dde96f18a71a"
      },
      "execution_count": null,
      "outputs": [
        {
          "output_type": "stream",
          "name": "stdout",
          "text": [
            "small: 0.051111698150634766\n",
            "medium: 0.08738923072814941\n",
            "long_: 0.17816591262817383\n",
            "long_long: 0.4256248474121094\n",
            "extra: 0.705742597579956\n",
            "all: 1.4086532592773438\n"
          ]
        }
      ]
    },
    {
      "cell_type": "markdown",
      "source": [
        "*Comparison:*\n",
        "Both algorithms have the same time complexity of *O(log₁₀(n))*, where n is the number that needs to be reversed. But, based on the results of the *check_time()* function, which measures the execution time of a function, it can be observed that when the length of the numbers doubles, the execution time of the division-based algorithm increases accordingly and the string-based algorithm does not depend on the length of the numbers and is depends only on their quantity. String-based algorithm is shorter and easier to understand and implement."
      ],
      "metadata": {
        "id": "rgxZgxA1NnpT"
      }
    },
    {
      "cell_type": "markdown",
      "source": [
        "# Custom object as a key in a dictionary"
      ],
      "metadata": {
        "id": "IUXbOIwsL0mR"
      }
    },
    {
      "cell_type": "code",
      "source": [
        "class MyType:\n",
        "    def __init__(self, value):\n",
        "        self.value = value\n",
        "\n",
        "    def __hash__(self):\n",
        "        return hash(self.value)\n",
        "\n",
        "    def __eq__(self, other):\n",
        "        return self.value == other.value"
      ],
      "metadata": {
        "id": "KGtSBATPFJtJ"
      },
      "execution_count": null,
      "outputs": []
    },
    {
      "cell_type": "code",
      "source": [
        "d = dict()\n",
        "d[MyType(1)] = 458\n",
        "d[MyType(5)] = 32\n",
        "d[MyType(12)] = 6546\n",
        "d[MyType(66)] = 78\n",
        "d[MyType(8)] = 4"
      ],
      "metadata": {
        "id": "dRMiLy7MHFfb"
      },
      "execution_count": null,
      "outputs": []
    },
    {
      "cell_type": "code",
      "source": [
        "d[MyType(12)]"
      ],
      "metadata": {
        "colab": {
          "base_uri": "https://localhost:8080/"
        },
        "id": "1xBZRYG9HvtU",
        "outputId": "52ee69a0-ea7c-4374-ba37-7dc1d1b93455"
      },
      "execution_count": null,
      "outputs": [
        {
          "output_type": "execute_result",
          "data": {
            "text/plain": [
              "6546"
            ]
          },
          "metadata": {},
          "execution_count": 30
        }
      ]
    }
  ]
}