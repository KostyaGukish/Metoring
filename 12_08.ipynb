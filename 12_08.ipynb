{
  "nbformat": 4,
  "nbformat_minor": 0,
  "metadata": {
    "colab": {
      "provenance": []
    },
    "kernelspec": {
      "name": "python3",
      "display_name": "Python 3"
    },
    "language_info": {
      "name": "python"
    }
  },
  "cells": [
    {
      "cell_type": "markdown",
      "source": [
        "# Reverse Integer"
      ],
      "metadata": {
        "id": "X9zN77NzLQ7v"
      }
    },
    {
      "cell_type": "markdown",
      "source": [
        "Division-based solution"
      ],
      "metadata": {
        "id": "9ZHm58OHLe4V"
      }
    },
    {
      "cell_type": "code",
      "execution_count": null,
      "metadata": {
        "id": "HkIPuT1BDdIx"
      },
      "outputs": [],
      "source": [
        "def division(value):\n",
        "    new_value = 0\n",
        "\n",
        "    while (value != 0):\n",
        "        new_value = new_value * 10 + value % 10\n",
        "        value = value // 10\n",
        "\n",
        "    return new_value"
      ]
    },
    {
      "cell_type": "markdown",
      "source": [
        "String-based solution"
      ],
      "metadata": {
        "id": "5b8erSoyLowq"
      }
    },
    {
      "cell_type": "code",
      "source": [
        "def string(value):\n",
        "    value_str = str(value)\n",
        "\n",
        "    new_value_str = value_str[::-1]\n",
        "\n",
        "    return int(value_str[::-1])"
      ],
      "metadata": {
        "id": "3fWYGlO4EgJH"
      },
      "execution_count": null,
      "outputs": []
    },
    {
      "cell_type": "code",
      "source": [
        "import random\n",
        "\n",
        "small = [random.randint(0, 2**8) for i in range(100000)]\n",
        "medium = [random.randint(2**8, 2**16) for i in range(100000)]\n",
        "long_ = [random.randint(2**16, 2**32) for i in range(100000)]\n",
        "long_long = [random.randint(2**32, 2**64) for i in range(100000)]\n",
        "extra = [random.randint(2**70, 2**100) for i in range(100000)]\n",
        "all = small + medium + long_ + long_long + extra\n",
        "\n",
        "values = ['small', 'medium', 'long_', 'long_long', 'extra', 'all']"
      ],
      "metadata": {
        "id": "UGeEkHXhiO_r"
      },
      "execution_count": null,
      "outputs": []
    },
    {
      "cell_type": "code",
      "source": [
        "import timeit\n",
        "\n",
        "def check_time(reverse):\n",
        "    for value in values:\n",
        "      testcode = '''for i in ''' + value + \": \" + reverse + '''(i)'''\n",
        "      print(value + \":\", timeit.timeit(stmt=testcode, globals=globals(), number=10))"
      ],
      "metadata": {
        "id": "iQjbyuBLL8cq"
      },
      "execution_count": null,
      "outputs": []
    },
    {
      "cell_type": "code",
      "source": [
        "check_time(\"string\")"
      ],
      "metadata": {
        "colab": {
          "base_uri": "https://localhost:8080/"
        },
        "id": "aA0McAyIu2gg",
        "outputId": "7762d0e6-7731-4f53-a6ed-ea930c312533"
      },
      "execution_count": null,
      "outputs": [
        {
          "output_type": "stream",
          "name": "stdout",
          "text": [
            "small: 0.624369248000221\n",
            "medium: 0.6168136530000083\n",
            "long_: 0.6476115829996161\n",
            "long_long: 0.7470982230001937\n",
            "extra: 0.8180030540002008\n",
            "all: 4.299766595000165\n"
          ]
        }
      ]
    },
    {
      "cell_type": "code",
      "source": [
        "check_time(\"division\")"
      ],
      "metadata": {
        "colab": {
          "base_uri": "https://localhost:8080/"
        },
        "id": "MEVerbPUvbic",
        "outputId": "07b408c2-5d42-4e6a-f487-a323c5710128"
      },
      "execution_count": null,
      "outputs": [
        {
          "output_type": "stream",
          "name": "stdout",
          "text": [
            "small: 0.8571921789998669\n",
            "medium: 0.8773242219999702\n",
            "long_: 1.8845792389997769\n",
            "long_long: 4.346159347000139\n",
            "extra: 8.457674065999981\n",
            "all: 15.886830174999886\n"
          ]
        }
      ]
    },
    {
      "cell_type": "code",
      "source": [
        "import matplotlib.pyplot as plt\n",
        "import numpy as np\n",
        "\n",
        "x = np.array([0, 2**8, 2**16, 2**32, 2**64])\n",
        "\n",
        "y1 = np.array([0.624369248000221, 0.6168136530000083, 0.6476115829996161, 0.7470982230001937, 0.8180030540002008])\n",
        "y2 = np.array([0.8571921789998669, 0.8773242219999702, 1.8845792389997769, 4.346159347000139, 8.457674065999981])\n",
        "\n",
        "plt.figure(figsize=(10, 6))\n",
        "\n",
        "plt.plot(x, y1, label='String-based solution', color='blue', marker='o')\n",
        "plt.plot(x, y2, label='Division-based solution', color='red', marker='o')\n",
        "\n",
        "plt.legend()\n",
        "\n",
        "plt.xscale('log')  # Логарифмическая шкала\n",
        "\n",
        "plt.xlabel('x (log scale)')\n",
        "plt.ylabel('y')\n",
        "\n",
        "plt.grid(True, which=\"both\", ls=\"--\")\n",
        "\n",
        "plt.show()\n"
      ],
      "metadata": {
        "colab": {
          "base_uri": "https://localhost:8080/",
          "height": 546
        },
        "id": "WVBwE1-fkKFJ",
        "outputId": "c34c8446-ceec-4326-e946-12f600a7fe89"
      },
      "execution_count": 14,
      "outputs": [
        {
          "output_type": "display_data",
          "data": {
            "text/plain": [
              "<Figure size 1000x600 with 1 Axes>"
            ],
            "image/png": "[encoded data removed]"
          },
          "metadata": {}
        }
      ]
    },
    {
      "cell_type": "markdown",
      "source": [
        "*Comparison:*\n",
        "Both algorithms have the same time complexity of *O(log₁₀(n))*, where n is the number that needs to be reversed. But, based on the results of the *check_time()* function, which measures the execution time of a function, it can be observed that when the length of the numbers doubles, the execution time of the division-based algorithm increases accordingly and the string-based algorithm does not depend on the length of the numbers and is depends only on their quantity. String-based algorithm is shorter and easier to understand and implement."
      ],
      "metadata": {
        "id": "rgxZgxA1NnpT"
      }
    },
    {
      "cell_type": "markdown",
      "source": [
        "# Custom object as a key in a dictionary"
      ],
      "metadata": {
        "id": "IUXbOIwsL0mR"
      }
    },
    {
      "cell_type": "code",
      "source": [
        "class MyType:\n",
        "    def __init__(self, value):\n",
        "        self.value = value\n",
        "\n",
        "    def __hash__(self):\n",
        "        return hash(self.value)\n",
        "\n",
        "    def __eq__(self, other):\n",
        "        return self.value == other.value"
      ],
      "metadata": {
        "id": "KGtSBATPFJtJ"
      },
      "execution_count": null,
      "outputs": []
    },
    {
      "cell_type": "code",
      "source": [
        "d = dict()\n",
        "d[MyType(1)] = 458\n",
        "d[MyType(5)] = 32\n",
        "d[MyType(12)] = 6546\n",
        "d[MyType(66)] = 78\n",
        "d[MyType(8)] = 4"
      ],
      "metadata": {
        "id": "dRMiLy7MHFfb"
      },
      "execution_count": null,
      "outputs": []
    },
    {
      "cell_type": "code",
      "source": [
        "d[MyType(12)]"
      ],
      "metadata": {
        "colab": {
          "base_uri": "https://localhost:8080/",
          "height": 141
        },
        "id": "1xBZRYG9HvtU",
        "outputId": "2d8517a9-c3ea-4b17-a2a5-2fdaa6b2c69a"
      },
      "execution_count": null,
      "outputs": [
        {
          "output_type": "error",
          "ename": "KeyError",
          "evalue": "<__main__.MyType object at 0x7ed0464e5360>",
          "traceback": [
            "\u001b[0;31m---------------------------------------------------------------------------\u001b[0m",
            "\u001b[0;31mKeyError\u001b[0m                                  Traceback (most recent call last)",
            "\u001b[0;32m<ipython-input-3-5a44c3280e93>\u001b[0m in \u001b[0;36m<cell line: 1>\u001b[0;34m()\u001b[0m\n\u001b[0;32m----> 1\u001b[0;31m \u001b[0md\u001b[0m\u001b[0;34m[\u001b[0m\u001b[0mMyType\u001b[0m\u001b[0;34m(\u001b[0m\u001b[0;36m12\u001b[0m\u001b[0;34m)\u001b[0m\u001b[0;34m]\u001b[0m\u001b[0;34m\u001b[0m\u001b[0;34m\u001b[0m\u001b[0m\n\u001b[0m",
            "\u001b[0;31mKeyError\u001b[0m: <__main__.MyType object at 0x7ed0464e5360>"
          ]
        }
      ]
    },
    {
      "cell_type": "code",
      "source": [
        "import sys\n",
        "\n",
        "a =\n",
        "sys.getsizeof(a)"
      ],
      "metadata": {
        "colab": {
          "base_uri": "https://localhost:8080/"
        },
        "id": "oZZThMS6w6HX",
        "outputId": "03de899c-f440-4b5e-b34f-660f47ac022e"
      },
      "execution_count": null,
      "outputs": [
        {
          "output_type": "execute_result",
          "data": {
            "text/plain": [
              "32"
            ]
          },
          "metadata": {},
          "execution_count": 11
        }
      ]
    },
    {
      "cell_type": "code",
      "source": [
        "a = -6\n",
        "b = -6\n",
        "b is a"
      ],
      "metadata": {
        "colab": {
          "base_uri": "https://localhost:8080/"
        },
        "id": "DBkQztAsztBl",
        "outputId": "fb937736-d541-49f6-f34f-cbdfad9837cf"
      },
      "execution_count": null,
      "outputs": [
        {
          "output_type": "execute_result",
          "data": {
            "text/plain": [
              "False"
            ]
          },
          "metadata": {},
          "execution_count": 23
        }
      ]
    },
    {
      "cell_type": "code",
      "source": [
        "a = [1, [2, 4, 8], 3]"
      ],
      "metadata": {
        "id": "-VxKf7FR0Qn1"
      },
      "execution_count": null,
      "outputs": []
    },
    {
      "cell_type": "code",
      "source": [
        "b = a[1:]\n",
        "b[1] = 5"
      ],
      "metadata": {
        "id": "3YQQdJsA1REV"
      },
      "execution_count": null,
      "outputs": []
    },
    {
      "cell_type": "code",
      "source": [
        "b[0][0] = 100"
      ],
      "metadata": {
        "id": "3kHwhw-v1_dc"
      },
      "execution_count": null,
      "outputs": []
    },
    {
      "cell_type": "code",
      "source": [
        "a"
      ],
      "metadata": {
        "colab": {
          "base_uri": "https://localhost:8080/"
        },
        "id": "2WWdxUrl2B9t",
        "outputId": "19c0b6bb-b1bb-4a06-8d07-3b7f3519a2bd"
      },
      "execution_count": null,
      "outputs": [
        {
          "output_type": "execute_result",
          "data": {
            "text/plain": [
              "[1, [100, 4, 8], 3]"
            ]
          },
          "metadata": {},
          "execution_count": 38
        }
      ]
    },
    {
      "cell_type": "code",
      "source": [],
      "metadata": {
        "id": "X3mXuD_n2V2i"
      },
      "execution_count": null,
      "outputs": []
    }
  ]
}