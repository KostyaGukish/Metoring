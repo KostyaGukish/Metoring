{
  "nbformat": 4,
  "nbformat_minor": 0,
  "metadata": {
    "colab": {
      "provenance": []
    },
    "kernelspec": {
      "name": "python3",
      "display_name": "Python 3"
    },
    "language_info": {
      "name": "python"
    }
  },
  "cells": [
    {
      "cell_type": "markdown",
      "source": [
        "# Reverse Integer"
      ],
      "metadata": {
        "id": "X9zN77NzLQ7v"
      }
    },
    {
      "cell_type": "markdown",
      "source": [
        "Division-based solution"
      ],
      "metadata": {
        "id": "9ZHm58OHLe4V"
      }
    },
    {
      "cell_type": "code",
      "execution_count": 32,
      "metadata": {
        "id": "HkIPuT1BDdIx"
      },
      "outputs": [],
      "source": [
        "def division(value):\n",
        "    new_value = 0\n",
        "\n",
        "    while (value != 0):\n",
        "        new_value = new_value * 10 + value % 10\n",
        "        value = value // 10\n",
        "\n",
        "    return new_value"
      ]
    },
    {
      "cell_type": "markdown",
      "source": [
        "String-based solution"
      ],
      "metadata": {
        "id": "5b8erSoyLowq"
      }
    },
    {
      "cell_type": "code",
      "source": [
        "def string(value):\n",
        "    value_str = str(value)\n",
        "\n",
        "    new_value_str = value_str[::-1]\n",
        "\n",
        "    return int(new_value_str)"
      ],
      "metadata": {
        "id": "3fWYGlO4EgJH"
      },
      "execution_count": 35,
      "outputs": []
    },
    {
      "cell_type": "code",
      "source": [
        "value = int(input())\n",
        "\n",
        "print(division(value), string(value))"
      ],
      "metadata": {
        "colab": {
          "base_uri": "https://localhost:8080/"
        },
        "id": "8XHoqxsiMDEz",
        "outputId": "5da854ec-7544-4f1d-c49c-34b45a244476"
      },
      "execution_count": 36,
      "outputs": [
        {
          "output_type": "stream",
          "name": "stdout",
          "text": [
            "548627\n",
            "726845 726845\n"
          ]
        }
      ]
    },
    {
      "cell_type": "markdown",
      "source": [
        "# Custom object as a key in a dictionary"
      ],
      "metadata": {
        "id": "IUXbOIwsL0mR"
      }
    },
    {
      "cell_type": "code",
      "source": [
        "class MyType:\n",
        "    def __init__(self, value):\n",
        "        self.value = value\n",
        "\n",
        "    def __hash__(self):\n",
        "        return hash(self.value)\n",
        "\n",
        "    def __eq__(self, other):\n",
        "        return self.value == other.value"
      ],
      "metadata": {
        "id": "KGtSBATPFJtJ"
      },
      "execution_count": 28,
      "outputs": []
    },
    {
      "cell_type": "code",
      "source": [
        "d = dict()\n",
        "d[MyType(1)] = 458\n",
        "d[MyType(5)] = 32\n",
        "d[MyType(12)] = 6546\n",
        "d[MyType(66)] = 78\n",
        "d[MyType(8)] = 4"
      ],
      "metadata": {
        "id": "dRMiLy7MHFfb"
      },
      "execution_count": 29,
      "outputs": []
    },
    {
      "cell_type": "code",
      "source": [
        "d[MyType(12)]"
      ],
      "metadata": {
        "colab": {
          "base_uri": "https://localhost:8080/"
        },
        "id": "1xBZRYG9HvtU",
        "outputId": "52ee69a0-ea7c-4374-ba37-7dc1d1b93455"
      },
      "execution_count": 30,
      "outputs": [
        {
          "output_type": "execute_result",
          "data": {
            "text/plain": [
              "6546"
            ]
          },
          "metadata": {},
          "execution_count": 30
        }
      ]
    }
  ]
}