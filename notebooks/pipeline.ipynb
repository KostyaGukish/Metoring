{
 "cells": [
  {
   "cell_type": "code",
   "execution_count": 1,
   "metadata": {},
   "outputs": [],
   "source": [
    "import pandas as pd\n",
    "import numpy as np\n",
    "from tqdm.notebook import tqdm\n",
    "from copy import deepcopy\n",
    "from xgboost import XGBRegressor\n",
    "from sklearn.model_selection import RandomizedSearchCV\n",
    "from sklearn.pipeline import Pipeline\n",
    "\n",
    "from my_splitter import MySplitter\n",
    "from my_transformer import MyTransformer\n",
    "\n",
    "tqdm.pandas()\n",
    "\n",
    "ID_SIZE = 20"
   ]
  },
  {
   "cell_type": "code",
   "execution_count": 2,
   "metadata": {},
   "outputs": [
    {
     "data": {
      "text/plain": [
       "'/root/restaurants'"
      ]
     },
     "execution_count": 2,
     "metadata": {},
     "output_type": "execute_result"
    }
   ],
   "source": [
    "import os\n",
    "\n",
    "if os.getcwd() != \"/root/restaurants\":\n",
    "    os.chdir(\"..\")\n",
    "os.getcwd()"
   ]
  },
  {
   "cell_type": "code",
   "execution_count": 3,
   "metadata": {},
   "outputs": [],
   "source": [
    "store_info = pd.read_csv(\"data/raw/air_store_info.csv\")\n",
    "store_info = store_info.rename(\n",
    "    columns={\n",
    "        \"air_store_id\": \"store_id\",\n",
    "        \"air_genre_name\": \"genre_name\",\n",
    "        \"air_area_name\": \"area_name\",\n",
    "    }\n",
    ")\n",
    "\n",
    "date_info = pd.read_csv(\"data/raw/date_info.csv\")\n",
    "date_info = date_info.rename(columns={\"calendar_date\": \"date\"})\n",
    "date_info[\"date\"] = date_info[\"date\"].astype(\"string\")"
   ]
  },
  {
   "cell_type": "code",
   "execution_count": 4,
   "metadata": {},
   "outputs": [],
   "source": [
    "submission = pd.read_csv(\"data/raw/sample_submission.csv\")\n",
    "data = pd.read_csv(\"data/processed/data.csv\")\n",
    "data[\"date\"] = pd.to_datetime(data[\"date\"])\n",
    "data.head()\n",
    "\n",
    "new_submission = deepcopy(submission)\n",
    "new_submission[\"store_id\"] = new_submission[\"id\"].str[:ID_SIZE]\n",
    "new_submission[\"date\"] = new_submission[\"id\"].str[ID_SIZE + 1 :]\n",
    "\n",
    "new_submission = pd.merge(new_submission, date_info, on=\"date\")\n",
    "new_submission = pd.merge(new_submission, store_info, on=\"store_id\")\n",
    "\n",
    "new_submission[\"date\"] = pd.to_datetime(new_submission[\"date\"])\n",
    "new_submission[\"year\"] = new_submission[\"date\"].dt.year\n",
    "new_submission[\"month\"] = new_submission[\"date\"].dt.month\n",
    "new_submission[\"day\"] = new_submission[\"date\"].dt.day"
   ]
  },
  {
   "cell_type": "code",
   "execution_count": 5,
   "metadata": {},
   "outputs": [],
   "source": [
    "data = data[\n",
    "    [\n",
    "        \"store_id\",\n",
    "        \"date\",\n",
    "        \"day_of_week\",\n",
    "        \"holiday_flg\",\n",
    "        \"genre_name\",\n",
    "        \"area_name\",\n",
    "        \"latitude\",\n",
    "        \"longitude\",\n",
    "        \"year\",\n",
    "        \"month\",\n",
    "        \"day\",\n",
    "        \"visitors\",\n",
    "    ]\n",
    "]"
   ]
  },
  {
   "cell_type": "code",
   "execution_count": 10,
   "metadata": {},
   "outputs": [],
   "source": [
    "X = data.drop(columns=[\"visitors\"]).reset_index(drop=True)\n",
    "y = data[\"visitors\"].reset_index(drop=True)"
   ]
  },
  {
   "cell_type": "code",
   "execution_count": 39,
   "metadata": {},
   "outputs": [],
   "source": [
    "from sklearn.base import BaseEstimator, RegressorMixin\n",
    "\n",
    "\n",
    "class RecursivePipeline(BaseEstimator, RegressorMixin):\n",
    "    def __init__(self, pipeline):\n",
    "        self.pipeline = pipeline\n",
    "\n",
    "    def fit(self, X, y):\n",
    "        self.pipeline.fit(X, y)\n",
    "        return self\n",
    "\n",
    "    def predict_batch(self, group):\n",
    "        return self.pipeline.predict(group)\n",
    "\n",
    "    def predict(self, X=None):\n",
    "        predictions = []\n",
    "\n",
    "        X_cols = X.columns\n",
    "        predictions = (\n",
    "            X.sort_values(\"date\")\n",
    "            .groupby(by=[\"date\"], group_keys=False)[X_cols]\n",
    "            .progress_apply(\n",
    "                lambda group: self.predict_batch(group), include_groups=False\n",
    "            )\n",
    "        )\n",
    "\n",
    "        return np.concatenate(predictions.to_numpy())"
   ]
  },
  {
   "cell_type": "code",
   "execution_count": null,
   "metadata": {},
   "outputs": [],
   "source": [
    "pipeline = RecursivePipeline(\n",
    "    pipeline=Pipeline(\n",
    "        steps=[\n",
    "            (\"transformer\", MyTransformer()),\n",
    "            (\n",
    "                \"model\",\n",
    "                XGBRegressor(\n",
    "                    objective=\"reg:squaredlogerror\",\n",
    "                    random_state=42,\n",
    "                    enable_categorical=True,\n",
    "                ),\n",
    "            ),\n",
    "        ]\n",
    "    )\n",
    ")\n",
    "\n",
    "\n",
    "param_grid = {\n",
    "    \"pipeline__model__n_estimators\": [5, 10, 20, 30, 40, 50, 70],\n",
    "    \"pipeline__model__learning_rate\": [0.001, 0.01, 0.03, 0.05, 0.1, 0.3, 0.5],\n",
    "    \"pipeline__model__max_depth\": np.arange(2, 20, 1),\n",
    "}\n",
    "\n",
    "validation_size = new_submission[\"date\"].nunique()\n",
    "cv = MySplitter(test_size=validation_size)\n",
    "rscv = RandomizedSearchCV(\n",
    "    estimator=pipeline,\n",
    "    cv=cv,\n",
    "    param_distributions=param_grid,\n",
    "    scoring=\"neg_root_mean_squared_log_error\",\n",
    "    # n_jobs=-1,\n",
    "    verbose=10,\n",
    "    n_iter=1,\n",
    ")\n",
    "\n",
    "\n",
    "X = data.drop(columns=[\"visitors\"]).reset_index(drop=True)\n",
    "y = data[\"visitors\"].reset_index(drop=True)\n",
    "\n",
    "rscv.fit(X, y)"
   ]
  }
 ],
 "metadata": {
  "kernelspec": {
   "display_name": "analytics",
   "language": "python",
   "name": "python3"
  },
  "language_info": {
   "codemirror_mode": {
    "name": "ipython",
    "version": 3
   },
   "file_extension": ".py",
   "mimetype": "text/x-python",
   "name": "python",
   "nbconvert_exporter": "python",
   "pygments_lexer": "ipython3",
   "version": "3.12.4"
  }
 },
 "nbformat": 4,
 "nbformat_minor": 2
}
