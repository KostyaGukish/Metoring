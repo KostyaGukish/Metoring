{
 "cells": [
  {
   "cell_type": "code",
   "execution_count": 1,
   "id": "02729974-8f15-4134-addc-c7f3f902bf18",
   "metadata": {},
   "outputs": [],
   "source": [
    "import itertools\n",
    "import pandas as pd\n",
    "import numpy as np\n",
    "from sklearn.model_selection import GridSearchCV, TimeSeriesSplit, cross_val_score\n",
    "from sklearn import svm\n",
    "from sklearn.metrics import root_mean_squared_log_error\n",
    "from copy import deepcopy\n",
    "from prophet import Prophet\n",
    "\n",
    "import logging\n",
    "logging.getLogger(\"prophet\").setLevel(logging.CRITICAL)\n",
    "logging.getLogger(\"cmdstanpy\").setLevel(logging.CRITICAL)"
   ]
  },
  {
   "cell_type": "code",
   "execution_count": 2,
   "id": "459ffae9",
   "metadata": {},
   "outputs": [],
   "source": [
    "def cross_val(estimator, X, y, p_grid, inner_splits=5, outer_splits=5, inner_gap=3, outer_gap=3, test_size=30):\n",
    "    inner_cv = TimeSeriesSplit(n_splits=inner_splits, gap=inner_gap, test_size=test_size)\n",
    "    outer_cv = TimeSeriesSplit(n_splits=outer_splits, gap=outer_gap, test_size=test_size)\n",
    "\n",
    "    model = GridSearchCV(estimator=estimator, \n",
    "                         param_grid=p_grid, \n",
    "                         cv=inner_cv, \n",
    "                         scoring='neg_root_mean_squared_error')\n",
    "    \n",
    "    nested_score = cross_val_score(model, \n",
    "                                   X=X, \n",
    "                                   y=y, \n",
    "                                   cv=outer_cv, \n",
    "                                   scoring='neg_root_mean_squared_error')\n",
    "    \n",
    "    \n",
    "    print(nested_score.mean())"
   ]
  },
  {
   "cell_type": "code",
   "execution_count": 3,
   "id": "7c1ee63d",
   "metadata": {},
   "outputs": [],
   "source": [
    "def my_GridSearchCV(estimator, X, y, param_grid, cv):   \n",
    "    keys, values = zip(*param_grid.items())\n",
    "    permutations_dicts = [dict(zip(keys, v)) for v in itertools.product(*values)]\n",
    "\n",
    "    best_model_score = float('inf')\n",
    "    \n",
    "    for params in permutations_dicts:\n",
    "\n",
    "        scores = []\n",
    "        pointer = 0\n",
    "\n",
    "        for train_index, test_index in cv.split(X, y):  \n",
    "            model = estimator(**params)                        \n",
    "            pointer += 1\n",
    "            x_train, x_test = X.loc[train_index], X.loc[test_index]\n",
    "            y_train, y_test = y.loc[train_index], y.loc[test_index]\n",
    "\n",
    "            if (isinstance(estimator(), Prophet)):\n",
    "                df = pd.concat([x_train, y_train], axis = 1)\n",
    "                df = df.rename(columns={\"visit_date\": \"ds\", \"visitors\": \"y\"})\n",
    "                model.fit(df)\n",
    "\n",
    "                df = deepcopy(x_test)\n",
    "                df = df.rename(columns={\"visit_date\": \"ds\"})\n",
    "                pred = model.predict(df)\n",
    "                pred = pred[[\"yhat\"]]\n",
    "                pred[pred < 0] = 0\n",
    "\n",
    "            else:\n",
    "                model.fit(x_train, y_train)\n",
    "\n",
    "                pred = model.predict(x_test)\n",
    "    \n",
    "\n",
    "            score = root_mean_squared_log_error(y_test, pred)\n",
    "    \n",
    "            scores.append(score)\n",
    "\n",
    "        model_score = np.mean(scores)\n",
    "        \n",
    "        if model_score < best_model_score:\n",
    "            best_model_score = model_score\n",
    "            best_params = params\n",
    "\n",
    "    best_model = estimator(**best_params)\n",
    "\n",
    "    return best_params"
   ]
  },
  {
   "cell_type": "code",
   "execution_count": 4,
   "id": "ed831374",
   "metadata": {},
   "outputs": [],
   "source": [
    "def my_nested_cv(estimator, X, y, p_grid, inner_splits=5, outer_splits=5, inner_gap=3, outer_gap=3, test_size=30):\n",
    "    cv_inner = TimeSeriesSplit(n_splits=inner_splits, gap=inner_gap, test_size=test_size)          \n",
    "    cv_outer = TimeSeriesSplit(n_splits=outer_splits, gap=outer_gap, test_size=test_size)\n",
    "\n",
    "    history = []\n",
    "\n",
    "    pointer = 0\n",
    "    for train_index, test_index in cv_outer.split(X, y):                          \n",
    "        pointer += 1\n",
    "        print('NestedCV: {} of outer fold {}'.format(pointer, cv_outer.get_n_splits()))\n",
    "        x_train, x_test = X.loc[train_index], X.loc[test_index]\n",
    "        y_train, y_test = y.loc[train_index], y.loc[test_index]\n",
    "\n",
    "        \n",
    "        params = my_GridSearchCV(estimator=estimator, \n",
    "                                X=X, \n",
    "                                y=y,\n",
    "                                param_grid=p_grid, \n",
    "                                cv=cv_inner) \n",
    "\n",
    "        model = estimator(**params)    \n",
    "\n",
    "         \n",
    "        if (isinstance(estimator(), Prophet)):\n",
    "            df = pd.concat([x_train, y_train], axis = 1)\n",
    "            df = df.rename(columns={\"visit_date\": \"ds\", \"visitors\": \"y\"})\n",
    "            model.fit(df)\n",
    "\n",
    "            df = deepcopy(x_test)\n",
    "            df = df.rename(columns={\"visit_date\": \"ds\"})\n",
    "            pred = model.predict(df)\n",
    "            pred = pred[[\"yhat\"]]\n",
    "            pred[pred < 0] = 0\n",
    "            \n",
    "        else:\n",
    "            model.fit(x_train, y_train)\n",
    "\n",
    "            pred = model.predict(x_test)\n",
    "\n",
    "        score = root_mean_squared_log_error(y_test, pred)\n",
    "    \n",
    "        print(\"Score:\", score, \"\\n\")\n",
    "        history.append(score)\n",
    "        # print(train_index, test_index)\n",
    "\n",
    "    print('Overall test performance: {}'.format(np.mean(history)))"
   ]
  },
  {
   "cell_type": "markdown",
   "id": "2fb26fb6",
   "metadata": {},
   "source": [
    "a small code to test the function"
   ]
  },
  {
   "cell_type": "code",
   "execution_count": 5,
   "id": "32f0308a",
   "metadata": {},
   "outputs": [
    {
     "name": "stdout",
     "output_type": "stream",
     "text": [
      "NestedCV: 1 of outer fold 5\n",
      "Score: 0.15433429155854744 \n",
      "\n",
      "NestedCV: 2 of outer fold 5\n",
      "Score: 0.21172619512825575 \n",
      "\n",
      "NestedCV: 3 of outer fold 5\n",
      "Score: 0.1709678588115569 \n",
      "\n",
      "NestedCV: 4 of outer fold 5\n",
      "Score: 0.35687660156870993 \n",
      "\n",
      "NestedCV: 5 of outer fold 5\n",
      "Score: 0.277030172805938 \n",
      "\n",
      "Overall test performance: 0.23418702397460162\n"
     ]
    }
   ],
   "source": [
    "from sklearn.datasets import fetch_california_housing\n",
    "\n",
    "housing = fetch_california_housing()\n",
    "data = pd.concat([pd.DataFrame(housing.data), pd.DataFrame(housing.target).rename(columns={0: \"target\"})], axis=1).reset_index(drop=True)\n",
    "X = data[[0, 1, 2, 3]].head(500)\n",
    "y = data[\"target\"].head(500)\n",
    "\n",
    "reg = svm.SVR\n",
    "p_grid = {\"C\": [1, 10], \"gamma\": [0.01, 0.1]}\n",
    "\n",
    "my_nested_cv(reg, X, y, p_grid)"
   ]
  },
  {
   "cell_type": "code",
   "execution_count": 6,
   "id": "a99ff5f0",
   "metadata": {},
   "outputs": [
    {
     "name": "stdout",
     "output_type": "stream",
     "text": [
      "-0.777866656214605\n"
     ]
    }
   ],
   "source": [
    "from sklearn.datasets import fetch_california_housing\n",
    "\n",
    "housing = fetch_california_housing()\n",
    "data = pd.concat([pd.DataFrame(housing.data), pd.DataFrame(housing.target).rename(columns={0: \"target\"})], axis=1).reset_index(drop=True)\n",
    "X = data[[0, 1, 2, 3]].head(500)\n",
    "y = data[\"target\"].head(500)\n",
    "\n",
    "reg = svm.SVR()\n",
    "p_grid = {\"C\": [1, 10], \"gamma\": [0.01, 0.1]}\n",
    "\n",
    "cross_val(reg, X, y, p_grid)"
   ]
  },
  {
   "cell_type": "code",
   "execution_count": null,
   "id": "f3201763",
   "metadata": {},
   "outputs": [],
   "source": []
  }
 ],
 "metadata": {
  "kernelspec": {
   "display_name": "Python 3 (ipykernel)",
   "language": "python",
   "name": "python3"
  },
  "language_info": {
   "codemirror_mode": {
    "name": "ipython",
    "version": 3
   },
   "file_extension": ".py",
   "mimetype": "text/x-python",
   "name": "python",
   "nbconvert_exporter": "python",
   "pygments_lexer": "ipython3",
   "version": "3.12.4"
  }
 },
 "nbformat": 4,
 "nbformat_minor": 5
}
