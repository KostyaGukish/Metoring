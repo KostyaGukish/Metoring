{
 "cells": [
  {
   "cell_type": "code",
   "execution_count": 1,
   "id": "02729974-8f15-4134-addc-c7f3f902bf18",
   "metadata": {},
   "outputs": [],
   "source": [
    "import itertools\n",
    "import pandas as pd\n",
    "import numpy as np\n",
    "from sklearn.model_selection import TimeSeriesSplit\n",
    "from sklearn.metrics import root_mean_squared_log_error\n",
    "from copy import deepcopy\n",
    "from prophet import Prophet\n",
    "from joblib import Parallel, delayed\n",
    "\n",
    "import logging\n",
    "\n",
    "logging.getLogger(\"prophet\").setLevel(logging.CRITICAL)\n",
    "logging.getLogger(\"cmdstanpy\").setLevel(logging.CRITICAL)"
   ]
  },
  {
   "cell_type": "code",
   "execution_count": 2,
   "id": "f3201763",
   "metadata": {},
   "outputs": [
    {
     "data": {
      "text/plain": [
       "'/root/restaurants/data/raw'"
      ]
     },
     "execution_count": 2,
     "metadata": {},
     "output_type": "execute_result"
    }
   ],
   "source": [
    "import os\n",
    "\n",
    "os.chdir(\"../data/raw\")\n",
    "os.getcwd()"
   ]
  },
  {
   "cell_type": "code",
   "execution_count": 3,
   "id": "c782ae94",
   "metadata": {},
   "outputs": [],
   "source": [
    "def my_cross_validation(estimator, X, y, params, cv):\n",
    "    scores = []\n",
    "    pointer = 0\n",
    "\n",
    "    for train_index, test_index in cv.split(X, y):\n",
    "        model = estimator(**params)\n",
    "        pointer += 1\n",
    "        x_train, x_test = X.loc[train_index], X.loc[test_index]\n",
    "        y_train, y_test = y.loc[train_index], y.loc[test_index]\n",
    "\n",
    "        if isinstance(estimator(), Prophet):\n",
    "            df = pd.concat([x_train, y_train], axis=1)\n",
    "            df = df.rename(columns={\"visit_date\": \"ds\", \"visitors\": \"y\"})\n",
    "            model.fit(df)\n",
    "\n",
    "            df = deepcopy(x_test)\n",
    "            df = df.rename(columns={\"visit_date\": \"ds\"})\n",
    "            pred = model.predict(df)\n",
    "            pred = pred[[\"yhat\"]]\n",
    "            pred[pred < 0] = 0\n",
    "\n",
    "        else:\n",
    "            model.fit(x_train, y_train)\n",
    "\n",
    "            pred = model.predict(x_test)\n",
    "\n",
    "        score = root_mean_squared_log_error(y_test, pred)\n",
    "\n",
    "        scores.append(score)\n",
    "\n",
    "    model_score = np.mean(scores)\n",
    "\n",
    "    return model_score"
   ]
  },
  {
   "cell_type": "code",
   "execution_count": 4,
   "id": "87ec42c8",
   "metadata": {},
   "outputs": [],
   "source": [
    "def my_grid_search_cv(estimator, X, y, param_grid, cv, n_jobs=1):\n",
    "    keys, values = zip(*param_grid.items())\n",
    "    permutations_dicts = [dict(zip(keys, v)) for v in itertools.product(*values)]\n",
    "\n",
    "    scores = Parallel(n_jobs=n_jobs)(\n",
    "        delayed(my_cross_validation)(\n",
    "            estimator=estimator, X=X, y=y, params=params, cv=cv\n",
    "        )\n",
    "        for params in permutations_dicts\n",
    "    )\n",
    "\n",
    "    return permutations_dicts[np.argmin(scores)]"
   ]
  },
  {
   "cell_type": "code",
   "execution_count": 22,
   "id": "ed831374",
   "metadata": {},
   "outputs": [],
   "source": [
    "def my_nested_cv(\n",
    "    estimator,\n",
    "    X,\n",
    "    y,\n",
    "    param_grid,\n",
    "    inner_splits=5,\n",
    "    outer_splits=5,\n",
    "    inner_gap=3,\n",
    "    outer_gap=3,\n",
    "    test_size=30,\n",
    "):\n",
    "    cv_inner = TimeSeriesSplit(\n",
    "        n_splits=inner_splits, gap=inner_gap, test_size=test_size\n",
    "    )\n",
    "    cv_outer = TimeSeriesSplit(\n",
    "        n_splits=outer_splits, gap=outer_gap, test_size=test_size\n",
    "    )\n",
    "\n",
    "    history = []\n",
    "\n",
    "    pointer = 0\n",
    "    for train_index, test_index in cv_outer.split(X, y):\n",
    "        pointer += 1\n",
    "        print(\"NestedCV: {} of outer fold {}\".format(pointer, cv_outer.get_n_splits()))\n",
    "        x_train, x_test = X.loc[train_index], X.loc[test_index]\n",
    "        y_train, y_test = y.loc[train_index], y.loc[test_index]\n",
    "\n",
    "        params = my_grid_search_cv(\n",
    "            estimator=estimator, X=X, y=y, param_grid=param_grid, cv=cv_inner, n_jobs=3\n",
    "        )\n",
    "\n",
    "        model = estimator(**params)\n",
    "\n",
    "        if isinstance(estimator(), Prophet):\n",
    "            df = pd.concat([x_train, y_train], axis=1)\n",
    "            df = df.rename(columns={\"visit_date\": \"ds\", \"visitors\": \"y\"})\n",
    "            model.fit(df)\n",
    "\n",
    "            df = deepcopy(x_test)\n",
    "            df = df.rename(columns={\"visit_date\": \"ds\"})\n",
    "            pred = model.predict(df)\n",
    "            pred = pred[[\"yhat\"]]\n",
    "            pred[pred < 0] = 0\n",
    "\n",
    "        else:\n",
    "            model.fit(x_train, y_train)\n",
    "\n",
    "            pred = model.predict(x_test)\n",
    "\n",
    "        score = root_mean_squared_log_error(y_test, pred)\n",
    "\n",
    "        print(\"Score:\", score, \"\\n\")\n",
    "        history.append(score)\n",
    "\n",
    "    print(\"Overall test performance: {}\".format(np.mean(history)))"
   ]
  },
  {
   "cell_type": "code",
   "execution_count": 14,
   "id": "7d266fa8",
   "metadata": {},
   "outputs": [
    {
     "data": {
      "text/html": [
       "<div>\n",
       "<style scoped>\n",
       "    .dataframe tbody tr th:only-of-type {\n",
       "        vertical-align: middle;\n",
       "    }\n",
       "\n",
       "    .dataframe tbody tr th {\n",
       "        vertical-align: top;\n",
       "    }\n",
       "\n",
       "    .dataframe thead th {\n",
       "        text-align: right;\n",
       "    }\n",
       "</style>\n",
       "<table border=\"1\" class=\"dataframe\">\n",
       "  <thead>\n",
       "    <tr style=\"text-align: right;\">\n",
       "      <th></th>\n",
       "      <th>visit_date</th>\n",
       "      <th>visitors</th>\n",
       "    </tr>\n",
       "  </thead>\n",
       "  <tbody>\n",
       "    <tr>\n",
       "      <th>0</th>\n",
       "      <td>2016-01-13</td>\n",
       "      <td>25</td>\n",
       "    </tr>\n",
       "    <tr>\n",
       "      <th>1</th>\n",
       "      <td>2016-01-14</td>\n",
       "      <td>32</td>\n",
       "    </tr>\n",
       "    <tr>\n",
       "      <th>2</th>\n",
       "      <td>2016-01-15</td>\n",
       "      <td>29</td>\n",
       "    </tr>\n",
       "    <tr>\n",
       "      <th>3</th>\n",
       "      <td>2016-01-16</td>\n",
       "      <td>22</td>\n",
       "    </tr>\n",
       "    <tr>\n",
       "      <th>4</th>\n",
       "      <td>2016-01-18</td>\n",
       "      <td>6</td>\n",
       "    </tr>\n",
       "    <tr>\n",
       "      <th>...</th>\n",
       "      <td>...</td>\n",
       "      <td>...</td>\n",
       "    </tr>\n",
       "    <tr>\n",
       "      <th>252103</th>\n",
       "      <td>2017-04-18</td>\n",
       "      <td>6</td>\n",
       "    </tr>\n",
       "    <tr>\n",
       "      <th>252104</th>\n",
       "      <td>2017-04-19</td>\n",
       "      <td>6</td>\n",
       "    </tr>\n",
       "    <tr>\n",
       "      <th>252105</th>\n",
       "      <td>2017-04-20</td>\n",
       "      <td>7</td>\n",
       "    </tr>\n",
       "    <tr>\n",
       "      <th>252106</th>\n",
       "      <td>2017-04-21</td>\n",
       "      <td>8</td>\n",
       "    </tr>\n",
       "    <tr>\n",
       "      <th>252107</th>\n",
       "      <td>2017-04-22</td>\n",
       "      <td>5</td>\n",
       "    </tr>\n",
       "  </tbody>\n",
       "</table>\n",
       "<p>252108 rows × 2 columns</p>\n",
       "</div>"
      ],
      "text/plain": [
       "        visit_date  visitors\n",
       "0       2016-01-13        25\n",
       "1       2016-01-14        32\n",
       "2       2016-01-15        29\n",
       "3       2016-01-16        22\n",
       "4       2016-01-18         6\n",
       "...            ...       ...\n",
       "252103  2017-04-18         6\n",
       "252104  2017-04-19         6\n",
       "252105  2017-04-20         7\n",
       "252106  2017-04-21         8\n",
       "252107  2017-04-22         5\n",
       "\n",
       "[252108 rows x 2 columns]"
      ]
     },
     "execution_count": 14,
     "metadata": {},
     "output_type": "execute_result"
    }
   ],
   "source": [
    "air_visit_data = pd.read_csv(\"air_visit_data.csv\")\n",
    "# data = (\n",
    "#     air_visit_data.where(air_visit_data[\"air_store_id\"] == \"air_ba937bf13d40fb24\")\n",
    "#     .dropna()\n",
    "#     .reset_index(drop=True)\n",
    "# )\n",
    "data = air_visit_data.drop(columns=[\"air_store_id\"])\n",
    "data"
   ]
  },
  {
   "cell_type": "code",
   "execution_count": 15,
   "id": "f641d409",
   "metadata": {},
   "outputs": [],
   "source": [
    "X = data[[\"visit_date\"]]\n",
    "y = data[[\"visitors\"]]"
   ]
  },
  {
   "cell_type": "code",
   "execution_count": 28,
   "id": "98148f0d",
   "metadata": {},
   "outputs": [
    {
     "name": "stdout",
     "output_type": "stream",
     "text": [
      "NestedCV: 1 of outer fold 5\n"
     ]
    },
    {
     "name": "stderr",
     "output_type": "stream",
     "text": [
      "18:03:46 - cmdstanpy - INFO - Chain [1] start processing\n",
      "18:03:46 - cmdstanpy - INFO - Chain [1] start processing\n",
      "18:04:56 - cmdstanpy - INFO - Chain [1] done processing\n",
      "18:05:01 - cmdstanpy - INFO - Chain [1] start processing\n",
      "18:05:21 - cmdstanpy - INFO - Chain [1] done processing\n",
      "18:05:28 - cmdstanpy - INFO - Chain [1] start processing\n",
      "18:06:59 - cmdstanpy - INFO - Chain [1] done processing\n",
      "18:07:03 - cmdstanpy - INFO - Chain [1] done processing\n",
      "18:07:04 - cmdstanpy - INFO - Chain [1] start processing\n",
      "18:07:08 - cmdstanpy - INFO - Chain [1] start processing\n",
      "18:08:59 - cmdstanpy - INFO - Chain [1] done processing\n",
      "18:09:01 - cmdstanpy - INFO - Chain [1] done processing\n",
      "18:09:03 - cmdstanpy - INFO - Chain [1] start processing\n",
      "18:09:06 - cmdstanpy - INFO - Chain [1] start processing\n",
      "18:10:20 - cmdstanpy - INFO - Chain [1] done processing\n",
      "18:10:26 - cmdstanpy - INFO - Chain [1] start processing\n",
      "18:11:01 - cmdstanpy - INFO - Chain [1] done processing\n",
      "18:11:06 - cmdstanpy - INFO - Chain [1] start processing\n",
      "18:12:13 - cmdstanpy - INFO - Chain [1] done processing\n",
      "18:12:30 - cmdstanpy - INFO - Chain [1] done processing\n",
      "18:12:47 - cmdstanpy - INFO - Chain [1] start processing\n",
      "18:13:38 - cmdstanpy - INFO - Chain [1] done processing\n"
     ]
    },
    {
     "name": "stdout",
     "output_type": "stream",
     "text": [
      "Score: 1.2058502650958414 \n",
      "\n",
      "NestedCV: 2 of outer fold 5\n"
     ]
    },
    {
     "name": "stderr",
     "output_type": "stream",
     "text": [
      "18:13:43 - cmdstanpy - INFO - Chain [1] start processing\n",
      "18:13:43 - cmdstanpy - INFO - Chain [1] start processing\n",
      "18:15:00 - cmdstanpy - INFO - Chain [1] done processing\n",
      "18:15:07 - cmdstanpy - INFO - Chain [1] start processing\n",
      "18:15:25 - cmdstanpy - INFO - Chain [1] done processing\n",
      "18:15:32 - cmdstanpy - INFO - Chain [1] start processing\n",
      "18:17:08 - cmdstanpy - INFO - Chain [1] done processing\n",
      "18:17:13 - cmdstanpy - INFO - Chain [1] done processing\n",
      "18:17:14 - cmdstanpy - INFO - Chain [1] start processing\n",
      "18:17:18 - cmdstanpy - INFO - Chain [1] start processing\n",
      "18:19:20 - cmdstanpy - INFO - Chain [1] done processing\n",
      "18:19:24 - cmdstanpy - INFO - Chain [1] done processing\n",
      "18:19:26 - cmdstanpy - INFO - Chain [1] start processing\n",
      "18:19:29 - cmdstanpy - INFO - Chain [1] start processing\n",
      "18:20:50 - cmdstanpy - INFO - Chain [1] done processing\n",
      "18:20:56 - cmdstanpy - INFO - Chain [1] start processing\n",
      "18:21:33 - cmdstanpy - INFO - Chain [1] done processing\n",
      "18:21:38 - cmdstanpy - INFO - Chain [1] start processing\n",
      "18:22:46 - cmdstanpy - INFO - Chain [1] done processing\n",
      "18:22:58 - cmdstanpy - INFO - Chain [1] done processing\n",
      "18:23:04 - cmdstanpy - INFO - Chain [1] start processing\n",
      "18:24:30 - cmdstanpy - INFO - Chain [1] done processing\n"
     ]
    },
    {
     "name": "stdout",
     "output_type": "stream",
     "text": [
      "Score: 1.1406339584639853 \n",
      "\n",
      "NestedCV: 3 of outer fold 5\n"
     ]
    },
    {
     "name": "stderr",
     "output_type": "stream",
     "text": [
      "18:24:35 - cmdstanpy - INFO - Chain [1] start processing\n",
      "18:24:36 - cmdstanpy - INFO - Chain [1] start processing\n",
      "18:25:48 - cmdstanpy - INFO - Chain [1] done processing\n",
      "18:25:53 - cmdstanpy - INFO - Chain [1] start processing\n",
      "18:26:16 - cmdstanpy - INFO - Chain [1] done processing\n",
      "18:26:21 - cmdstanpy - INFO - Chain [1] start processing\n",
      "18:27:52 - cmdstanpy - INFO - Chain [1] done processing\n",
      "18:27:52 - cmdstanpy - INFO - Chain [1] done processing\n",
      "18:27:56 - cmdstanpy - INFO - Chain [1] start processing\n",
      "18:27:57 - cmdstanpy - INFO - Chain [1] start processing\n",
      "18:29:55 - cmdstanpy - INFO - Chain [1] done processing\n",
      "18:29:57 - cmdstanpy - INFO - Chain [1] done processing\n",
      "18:30:00 - cmdstanpy - INFO - Chain [1] start processing\n",
      "18:30:02 - cmdstanpy - INFO - Chain [1] start processing\n",
      "18:31:22 - cmdstanpy - INFO - Chain [1] done processing\n",
      "18:31:27 - cmdstanpy - INFO - Chain [1] start processing\n",
      "18:31:59 - cmdstanpy - INFO - Chain [1] done processing\n",
      "18:32:03 - cmdstanpy - INFO - Chain [1] start processing\n",
      "18:33:04 - cmdstanpy - INFO - Chain [1] done processing\n",
      "18:33:17 - cmdstanpy - INFO - Chain [1] done processing\n",
      "18:33:22 - cmdstanpy - INFO - Chain [1] start processing\n",
      "18:34:42 - cmdstanpy - INFO - Chain [1] done processing\n"
     ]
    },
    {
     "name": "stdout",
     "output_type": "stream",
     "text": [
      "Score: 1.1460366032344298 \n",
      "\n",
      "NestedCV: 4 of outer fold 5\n"
     ]
    },
    {
     "name": "stderr",
     "output_type": "stream",
     "text": [
      "18:34:47 - cmdstanpy - INFO - Chain [1] start processing\n",
      "18:34:47 - cmdstanpy - INFO - Chain [1] start processing\n",
      "18:35:59 - cmdstanpy - INFO - Chain [1] done processing\n",
      "18:36:04 - cmdstanpy - INFO - Chain [1] start processing\n",
      "18:36:25 - cmdstanpy - INFO - Chain [1] done processing\n",
      "18:36:30 - cmdstanpy - INFO - Chain [1] start processing\n",
      "18:38:02 - cmdstanpy - INFO - Chain [1] done processing\n",
      "18:38:03 - cmdstanpy - INFO - Chain [1] done processing\n",
      "18:38:06 - cmdstanpy - INFO - Chain [1] start processing\n",
      "18:38:07 - cmdstanpy - INFO - Chain [1] start processing\n",
      "19:28:43 - cmdstanpy - INFO - Chain [1] done processing\n",
      "19:28:46 - cmdstanpy - INFO - Chain [1] start processing\n",
      "19:28:46 - cmdstanpy - INFO - Chain [1] done processing\n",
      "19:28:49 - cmdstanpy - INFO - Chain [1] start processing\n",
      "19:30:00 - cmdstanpy - INFO - Chain [1] done processing\n",
      "19:30:03 - cmdstanpy - INFO - Chain [1] start processing\n",
      "19:30:37 - cmdstanpy - INFO - Chain [1] done processing\n",
      "19:30:40 - cmdstanpy - INFO - Chain [1] start processing\n",
      "19:31:42 - cmdstanpy - INFO - Chain [1] done processing\n",
      "19:31:56 - cmdstanpy - INFO - Chain [1] done processing\n",
      "19:31:59 - cmdstanpy - INFO - Chain [1] start processing\n",
      "19:33:06 - cmdstanpy - INFO - Chain [1] done processing\n"
     ]
    },
    {
     "name": "stdout",
     "output_type": "stream",
     "text": [
      "Score: 1.2764789171842608 \n",
      "\n",
      "NestedCV: 5 of outer fold 5\n"
     ]
    },
    {
     "name": "stderr",
     "output_type": "stream",
     "text": [
      "19:33:09 - cmdstanpy - INFO - Chain [1] start processing\n",
      "19:33:09 - cmdstanpy - INFO - Chain [1] start processing\n",
      "19:34:44 - cmdstanpy - INFO - Chain [1] done processing\n",
      "19:34:49 - cmdstanpy - INFO - Chain [1] start processing\n",
      "19:35:16 - cmdstanpy - INFO - Chain [1] done processing\n",
      "19:35:19 - cmdstanpy - INFO - Chain [1] start processing\n",
      "19:36:43 - cmdstanpy - INFO - Chain [1] done processing\n",
      "19:36:46 - cmdstanpy - INFO - Chain [1] start processing\n",
      "19:36:47 - cmdstanpy - INFO - Chain [1] done processing\n",
      "19:36:49 - cmdstanpy - INFO - Chain [1] start processing\n",
      "19:38:39 - cmdstanpy - INFO - Chain [1] done processing\n",
      "19:38:43 - cmdstanpy - INFO - Chain [1] start processing\n",
      "19:38:47 - cmdstanpy - INFO - Chain [1] done processing\n",
      "19:38:50 - cmdstanpy - INFO - Chain [1] start processing\n",
      "19:40:08 - cmdstanpy - INFO - Chain [1] done processing\n",
      "19:40:11 - cmdstanpy - INFO - Chain [1] start processing\n",
      "19:40:23 - cmdstanpy - INFO - Chain [1] done processing\n",
      "19:40:26 - cmdstanpy - INFO - Chain [1] start processing\n",
      "19:41:35 - cmdstanpy - INFO - Chain [1] done processing\n",
      "19:41:40 - cmdstanpy - INFO - Chain [1] done processing\n",
      "19:41:42 - cmdstanpy - INFO - Chain [1] start processing\n",
      "19:42:26 - cmdstanpy - INFO - Chain [1] done processing\n"
     ]
    },
    {
     "name": "stdout",
     "output_type": "stream",
     "text": [
      "Score: 1.3479582954972338 \n",
      "\n",
      "Overall test performance: 1.2233916078951503\n"
     ]
    }
   ],
   "source": [
    "reg = Prophet\n",
    "\n",
    "param_grid = {\n",
    "    \"seasonality_prior_scale\": [0.01, 0.1],\n",
    "}\n",
    "\n",
    "my_nested_cv(reg, X, y, param_grid)"
   ]
  },
  {
   "cell_type": "code",
   "execution_count": 26,
   "id": "0216cd8a",
   "metadata": {},
   "outputs": [
    {
     "name": "stdout",
     "output_type": "stream",
     "text": [
      "NestedCV: 1 of outer fold 5\n",
      "Score: 1.0774397158466047 \n",
      "\n",
      "NestedCV: 2 of outer fold 5\n",
      "Score: 0.8881659348731861 \n",
      "\n",
      "NestedCV: 3 of outer fold 5\n",
      "Score: 1.031048058112854 \n",
      "\n",
      "NestedCV: 4 of outer fold 5\n",
      "Score: 1.1055348968047596 \n",
      "\n",
      "NestedCV: 5 of outer fold 5\n",
      "Score: 1.133640608555693 \n",
      "\n",
      "Overall test performance: 1.0471658428386195\n"
     ]
    }
   ],
   "source": [
    "from sklearn.dummy import DummyRegressor\n",
    "reg = DummyRegressor\n",
    "\n",
    "p_grid = {\"strategy\": [\"mean\", \"median\"]}\n",
    "\n",
    "my_nested_cv(reg, X, y, p_grid)"
   ]
  }
 ],
 "metadata": {
  "kernelspec": {
   "display_name": "Python 3 (ipykernel)",
   "language": "python",
   "name": "python3"
  },
  "language_info": {
   "codemirror_mode": {
    "name": "ipython",
    "version": 3
   },
   "file_extension": ".py",
   "mimetype": "text/x-python",
   "name": "python",
   "nbconvert_exporter": "python",
   "pygments_lexer": "ipython3",
   "version": "3.12.4"
  }
 },
 "nbformat": 4,
 "nbformat_minor": 5
}
