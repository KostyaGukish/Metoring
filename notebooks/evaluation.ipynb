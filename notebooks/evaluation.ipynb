{
 "cells": [
  {
   "cell_type": "code",
   "execution_count": 1,
   "id": "02729974-8f15-4134-addc-c7f3f902bf18",
   "metadata": {},
   "outputs": [],
   "source": [
    "import pandas as pd\n",
    "from sklearn.model_selection import GridSearchCV, TimeSeriesSplit, cross_val_score\n",
    "from sklearn import svm"
   ]
  },
  {
   "cell_type": "code",
   "execution_count": 3,
   "id": "459ffae9",
   "metadata": {},
   "outputs": [],
   "source": [
    "def cross_val(estimator, X, y, p_grid, inner_splits=5, outer_splits=5, inner_gap=3, outer_gap=3, test_size = 30):\n",
    "    inner_cv = TimeSeriesSplit(n_splits=inner_splits, gap=inner_gap, test_size=test_size)\n",
    "    outer_cv = TimeSeriesSplit(n_splits=outer_splits, gap=outer_gap, test_size=test_size)\n",
    "\n",
    "    model = GridSearchCV(estimator=estimator, \n",
    "                         param_grid=p_grid, \n",
    "                         cv=inner_cv, \n",
    "                         scoring='neg_root_mean_squared_error')\n",
    "    \n",
    "    nested_score = cross_val_score(model, \n",
    "                                   X=X, \n",
    "                                   y=y, \n",
    "                                   cv=outer_cv, \n",
    "                                   scoring='neg_root_mean_squared_error')\n",
    "    \n",
    "    \n",
    "    print(nested_score.mean())"
   ]
  },
  {
   "cell_type": "markdown",
   "id": "2fb26fb6",
   "metadata": {},
   "source": [
    "a small code to test the function"
   ]
  },
  {
   "cell_type": "code",
   "execution_count": 5,
   "id": "32f0308a",
   "metadata": {},
   "outputs": [
    {
     "name": "stdout",
     "output_type": "stream",
     "text": [
      "-0.777866656214605\n"
     ]
    }
   ],
   "source": [
    "from sklearn.datasets import fetch_california_housing\n",
    "\n",
    "housing = fetch_california_housing()\n",
    "data = pd.concat([pd.DataFrame(housing.data), pd.DataFrame(housing.target).rename(columns={0: \"target\"})], axis=1).reset_index(drop=True)\n",
    "X = data[[0, 1, 2, 3]].head(500)\n",
    "y = data[\"target\"].head(500)\n",
    "\n",
    "reg = svm.SVR()\n",
    "p_grid = {\"C\": [1, 10], \"gamma\": [0.01, 0.1]}\n",
    "\n",
    "cross_val(reg, X, y, p_grid)"
   ]
  }
 ],
 "metadata": {
  "kernelspec": {
   "display_name": "Python 3 (ipykernel)",
   "language": "python",
   "name": "python3"
  },
  "language_info": {
   "codemirror_mode": {
    "name": "ipython",
    "version": 3
   },
   "file_extension": ".py",
   "mimetype": "text/x-python",
   "name": "python",
   "nbconvert_exporter": "python",
   "pygments_lexer": "ipython3",
   "version": "undefined.undefined.undefined"
  }
 },
 "nbformat": 4,
 "nbformat_minor": 5
}
