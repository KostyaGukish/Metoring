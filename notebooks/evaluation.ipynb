{
 "cells": [
  {
   "cell_type": "code",
   "execution_count": 29,
   "id": "02729974-8f15-4134-addc-c7f3f902bf18",
   "metadata": {},
   "outputs": [],
   "source": [
    "import pandas as pd\n",
    "import math\n",
    "import logging\n",
    "from sklearn.model_selection import TimeSeriesSplit\n",
    "from copy import deepcopy\n",
    "from prophet import Prophet\n",
    "from prophet.serialize import model_to_json\n",
    "\n",
    "\n",
    "from eval import my_grid_search_cv\n",
    "\n",
    "logging.getLogger(\"prophet\").setLevel(logging.CRITICAL)\n",
    "logging.getLogger(\"cmdstanpy\").setLevel(logging.CRITICAL)\n",
    "\n",
    "logging.getLogger(\"fbprophet.forecaster\").propagate = False\n",
    "\n",
    "# from tqdm import tqdm\n",
    "# tqdm.pandas()"
   ]
  },
  {
   "cell_type": "code",
   "execution_count": 30,
   "id": "f3201763",
   "metadata": {},
   "outputs": [
    {
     "data": {
      "text/plain": [
       "'/root/restaurants'"
      ]
     },
     "execution_count": 30,
     "metadata": {},
     "output_type": "execute_result"
    }
   ],
   "source": [
    "import os\n",
    "\n",
    "if os.getcwd() != \"/root/restaurants\":\n",
    "    os.chdir(\"..\")\n",
    "os.getcwd()"
   ]
  },
  {
   "cell_type": "code",
   "execution_count": 31,
   "id": "7d266fa8",
   "metadata": {},
   "outputs": [
    {
     "data": {
      "text/html": [
       "<div>\n",
       "<style scoped>\n",
       "    .dataframe tbody tr th:only-of-type {\n",
       "        vertical-align: middle;\n",
       "    }\n",
       "\n",
       "    .dataframe tbody tr th {\n",
       "        vertical-align: top;\n",
       "    }\n",
       "\n",
       "    .dataframe thead th {\n",
       "        text-align: right;\n",
       "    }\n",
       "</style>\n",
       "<table border=\"1\" class=\"dataframe\">\n",
       "  <thead>\n",
       "    <tr style=\"text-align: right;\">\n",
       "      <th></th>\n",
       "      <th>air_store_id</th>\n",
       "      <th>visit_date</th>\n",
       "      <th>visitors</th>\n",
       "    </tr>\n",
       "  </thead>\n",
       "  <tbody>\n",
       "    <tr>\n",
       "      <th>0</th>\n",
       "      <td>air_ba937bf13d40fb24</td>\n",
       "      <td>2016-01-13</td>\n",
       "      <td>25</td>\n",
       "    </tr>\n",
       "    <tr>\n",
       "      <th>1</th>\n",
       "      <td>air_ba937bf13d40fb24</td>\n",
       "      <td>2016-01-14</td>\n",
       "      <td>32</td>\n",
       "    </tr>\n",
       "    <tr>\n",
       "      <th>2</th>\n",
       "      <td>air_ba937bf13d40fb24</td>\n",
       "      <td>2016-01-15</td>\n",
       "      <td>29</td>\n",
       "    </tr>\n",
       "    <tr>\n",
       "      <th>3</th>\n",
       "      <td>air_ba937bf13d40fb24</td>\n",
       "      <td>2016-01-16</td>\n",
       "      <td>22</td>\n",
       "    </tr>\n",
       "    <tr>\n",
       "      <th>4</th>\n",
       "      <td>air_ba937bf13d40fb24</td>\n",
       "      <td>2016-01-18</td>\n",
       "      <td>6</td>\n",
       "    </tr>\n",
       "  </tbody>\n",
       "</table>\n",
       "</div>"
      ],
      "text/plain": [
       "           air_store_id  visit_date  visitors\n",
       "0  air_ba937bf13d40fb24  2016-01-13        25\n",
       "1  air_ba937bf13d40fb24  2016-01-14        32\n",
       "2  air_ba937bf13d40fb24  2016-01-15        29\n",
       "3  air_ba937bf13d40fb24  2016-01-16        22\n",
       "4  air_ba937bf13d40fb24  2016-01-18         6"
      ]
     },
     "execution_count": 31,
     "metadata": {},
     "output_type": "execute_result"
    }
   ],
   "source": [
    "air_visit_data = pd.read_csv(\"data/raw/air_visit_data.csv\")\n",
    "data = deepcopy(air_visit_data)\n",
    "data.head()"
   ]
  },
  {
   "cell_type": "code",
   "execution_count": 32,
   "id": "57cc32fa",
   "metadata": {},
   "outputs": [
    {
     "data": {
      "text/html": [
       "<div>\n",
       "<style scoped>\n",
       "    .dataframe tbody tr th:only-of-type {\n",
       "        vertical-align: middle;\n",
       "    }\n",
       "\n",
       "    .dataframe tbody tr th {\n",
       "        vertical-align: top;\n",
       "    }\n",
       "\n",
       "    .dataframe thead th {\n",
       "        text-align: right;\n",
       "    }\n",
       "</style>\n",
       "<table border=\"1\" class=\"dataframe\">\n",
       "  <thead>\n",
       "    <tr style=\"text-align: right;\">\n",
       "      <th></th>\n",
       "      <th>calendar_date</th>\n",
       "      <th>holiday_flg</th>\n",
       "    </tr>\n",
       "  </thead>\n",
       "  <tbody>\n",
       "    <tr>\n",
       "      <th>0</th>\n",
       "      <td>2016-01-01</td>\n",
       "      <td>1</td>\n",
       "    </tr>\n",
       "    <tr>\n",
       "      <th>1</th>\n",
       "      <td>2016-01-02</td>\n",
       "      <td>1</td>\n",
       "    </tr>\n",
       "    <tr>\n",
       "      <th>2</th>\n",
       "      <td>2016-01-03</td>\n",
       "      <td>1</td>\n",
       "    </tr>\n",
       "    <tr>\n",
       "      <th>3</th>\n",
       "      <td>2016-01-04</td>\n",
       "      <td>0</td>\n",
       "    </tr>\n",
       "    <tr>\n",
       "      <th>4</th>\n",
       "      <td>2016-01-05</td>\n",
       "      <td>0</td>\n",
       "    </tr>\n",
       "  </tbody>\n",
       "</table>\n",
       "</div>"
      ],
      "text/plain": [
       "  calendar_date  holiday_flg\n",
       "0    2016-01-01            1\n",
       "1    2016-01-02            1\n",
       "2    2016-01-03            1\n",
       "3    2016-01-04            0\n",
       "4    2016-01-05            0"
      ]
     },
     "execution_count": 32,
     "metadata": {},
     "output_type": "execute_result"
    }
   ],
   "source": [
    "date_info = pd.read_csv(\"data/raw/date_info.csv\")\n",
    "date_info = date_info.drop(columns=[\"day_of_week\"])\n",
    "date_info.head()"
   ]
  },
  {
   "cell_type": "code",
   "execution_count": 33,
   "id": "c0eb0525",
   "metadata": {},
   "outputs": [
    {
     "data": {
      "text/html": [
       "<div>\n",
       "<style scoped>\n",
       "    .dataframe tbody tr th:only-of-type {\n",
       "        vertical-align: middle;\n",
       "    }\n",
       "\n",
       "    .dataframe tbody tr th {\n",
       "        vertical-align: top;\n",
       "    }\n",
       "\n",
       "    .dataframe thead th {\n",
       "        text-align: right;\n",
       "    }\n",
       "</style>\n",
       "<table border=\"1\" class=\"dataframe\">\n",
       "  <thead>\n",
       "    <tr style=\"text-align: right;\">\n",
       "      <th></th>\n",
       "      <th>holiday</th>\n",
       "      <th>ds</th>\n",
       "    </tr>\n",
       "  </thead>\n",
       "  <tbody>\n",
       "    <tr>\n",
       "      <th>0</th>\n",
       "      <td>holiday</td>\n",
       "      <td>2016-01-01</td>\n",
       "    </tr>\n",
       "    <tr>\n",
       "      <th>1</th>\n",
       "      <td>holiday</td>\n",
       "      <td>2016-01-02</td>\n",
       "    </tr>\n",
       "    <tr>\n",
       "      <th>2</th>\n",
       "      <td>holiday</td>\n",
       "      <td>2016-01-03</td>\n",
       "    </tr>\n",
       "    <tr>\n",
       "      <th>3</th>\n",
       "      <td>holiday</td>\n",
       "      <td>2016-01-11</td>\n",
       "    </tr>\n",
       "    <tr>\n",
       "      <th>4</th>\n",
       "      <td>holiday</td>\n",
       "      <td>2016-02-11</td>\n",
       "    </tr>\n",
       "  </tbody>\n",
       "</table>\n",
       "</div>"
      ],
      "text/plain": [
       "   holiday          ds\n",
       "0  holiday  2016-01-01\n",
       "1  holiday  2016-01-02\n",
       "2  holiday  2016-01-03\n",
       "3  holiday  2016-01-11\n",
       "4  holiday  2016-02-11"
      ]
     },
     "execution_count": 33,
     "metadata": {},
     "output_type": "execute_result"
    }
   ],
   "source": [
    "holidays = (\n",
    "    date_info[date_info[\"holiday_flg\"] == 1]\n",
    "    .rename(columns={\"holiday_flg\": \"holiday\", \"calendar_date\": \"ds\"})\n",
    "    .reset_index(drop=True)\n",
    ")\n",
    "holidays = holidays[[\"holiday\", \"ds\"]]\n",
    "holidays[\"holiday\"] = \"holiday\"\n",
    "holidays.head()"
   ]
  },
  {
   "cell_type": "code",
   "execution_count": null,
   "id": "18683d34",
   "metadata": {},
   "outputs": [],
   "source": [
    "# def fit_for_each_store(directory, model, data):\n",
    "\n",
    "from tqdm.auto import tqdm\n",
    "\n",
    "tqdm.pandas()\n",
    "\n",
    "small = []\n",
    "\n",
    "directory = \"models/prophet_for_each_store_with_holidays\"\n",
    "os.makedirs(directory, exist_ok=True)\n",
    "\n",
    "models = dict()\n",
    "\n",
    "param_grid = {\n",
    "    \"changepoint_prior_scale\": [0.001, 0.01, 0.1, 0.5],\n",
    "    \"seasonality_prior_scale\": [0.01, 0.1, 1, 10],\n",
    "    \"seasonality_mode\": [\"additive\", \"multiplicative\"],\n",
    "    \"holidays\": [holidays],\n",
    "}\n",
    "\n",
    "for store_id, store_data in tqdm(data.groupby(\"air_store_id\")):\n",
    "\n",
    "    if store_id == \"air_17bed6dbf7c8b0fc\":\n",
    "        param_grid = {\n",
    "            \"changepoint_prior_scale\": [0.001, 0.1, 0.5],\n",
    "            \"seasonality_prior_scale\": [0.01, 0.1, 1, 10],\n",
    "            \"seasonality_mode\": [\"additive\", \"multiplicative\"],\n",
    "            \"holidays\": [holidays],\n",
    "        }\n",
    "    \n",
    "    print(store_id, store_data.shape[0])\n",
    "\n",
    "    file_path = os.path.join(directory, f\"model_{store_id}.json\")\n",
    "\n",
    "    if os.path.exists(file_path):\n",
    "        continue\n",
    "\n",
    "    X = store_data[[\"visit_date\"]].reset_index(drop=True)\n",
    "    y = store_data[[\"visitors\"]].reset_index(drop=True)\n",
    "\n",
    "    n_splits = max(min(math.trunc((store_data.shape[0] - 5) / 30), 5), 2)\n",
    "\n",
    "    cv = TimeSeriesSplit(n_splits=n_splits, gap=3, test_size=30)\n",
    "\n",
    "    if store_data.shape[0] <= 65:\n",
    "        small.append(store_id)\n",
    "        cv = TimeSeriesSplit(\n",
    "            n_splits=2, gap=1, test_size=int(store_data.shape[0] * 0.2)\n",
    "        )\n",
    "\n",
    "    params = my_grid_search_cv(Prophet, X, y, param_grid, cv=cv, n_jobs=5)\n",
    "\n",
    "    models[store_id] = Prophet(**params)\n",
    "\n",
    "    df = pd.concat([X, y], axis=1)\n",
    "    df = df.rename(columns={\"visit_date\": \"ds\", \"visitors\": \"y\"})\n",
    "    models[store_id].fit(df)\n",
    "\n",
    "    with open(file_path, \"w\") as fout:\n",
    "        fout.write(model_to_json(models[store_id]))"
   ]
  },
  {
   "cell_type": "code",
   "execution_count": 43,
   "id": "5cfdf800",
   "metadata": {},
   "outputs": [],
   "source": [
    "from prophet.serialize import model_from_json\n",
    "\n",
    "\n",
    "def get_models(directory_path):\n",
    "    models = dict()\n",
    "\n",
    "    for file in os.listdir(directory_path):\n",
    "        with open(f\"{directory_path}/{file}\", \"r\") as fin:\n",
    "            store_id = file[6:]\n",
    "            store_id = store_id[:-5]\n",
    "            models[store_id] = model_from_json(fin.read())\n",
    "\n",
    "    return models"
   ]
  },
  {
   "cell_type": "code",
   "execution_count": 44,
   "id": "873a435c",
   "metadata": {},
   "outputs": [],
   "source": [
    "models = get_models(\"models/prophet_for_each_store_with_holidays\")"
   ]
  },
  {
   "cell_type": "code",
   "execution_count": 45,
   "id": "27600eb4",
   "metadata": {},
   "outputs": [
    {
     "data": {
      "application/vnd.jupyter.widget-view+json": {
       "model_id": "38064ae812e448848a37ec2905abcbe9",
       "version_major": 2,
       "version_minor": 0
      },
      "text/plain": [
       "  0%|          | 0/32019 [00:00<?, ?it/s]"
      ]
     },
     "metadata": {},
     "output_type": "display_data"
    }
   ],
   "source": [
    "# from tqdm import tqdm\n",
    "from tqdm.auto import tqdm\n",
    "\n",
    "submission = pd.read_csv(\"data/raw/sample_submission.csv\")\n",
    "submission = submission.rename(columns={\"visit_date\": \"ds\"})\n",
    "\n",
    "\n",
    "def make_prediction(row):\n",
    "    store_id = row[\"id\"][:20]\n",
    "    date = pd.DataFrame([row[\"id\"][21:]])\n",
    "    date = date.rename(columns={0: \"ds\"})\n",
    "\n",
    "    pred = models[store_id].predict(date)\n",
    "    pred = pred[[\"yhat\"]]\n",
    "    pred[pred < 0] = 0\n",
    "\n",
    "    row[\"visitors\"] = pred[\"yhat\"][0]\n",
    "    return row\n",
    "\n",
    "\n",
    "tqdm.pandas()\n",
    "submission = submission.progress_apply(make_prediction, axis=1)"
   ]
  },
  {
   "cell_type": "code",
   "execution_count": 46,
   "id": "651dbbd7",
   "metadata": {},
   "outputs": [],
   "source": [
    "directory = \"data/submissions\"\n",
    "os.makedirs(directory, exist_ok=True)\n",
    "\n",
    "submission.to_csv(directory + \"/prophet_for_each_store_with_holidays.csv\", index=False)"
   ]
  }
 ],
 "metadata": {
  "kernelspec": {
   "display_name": "Python 3 (ipykernel)",
   "language": "python",
   "name": "python3"
  },
  "language_info": {
   "codemirror_mode": {
    "name": "ipython",
    "version": 3
   },
   "file_extension": ".py",
   "mimetype": "text/x-python",
   "name": "python",
   "nbconvert_exporter": "python",
   "pygments_lexer": "ipython3",
   "version": "3.12.4"
  }
 },
 "nbformat": 4,
 "nbformat_minor": 5
}
