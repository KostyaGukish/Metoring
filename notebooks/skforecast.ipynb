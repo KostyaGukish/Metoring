{
 "cells": [
  {
   "cell_type": "code",
   "execution_count": 1,
   "metadata": {},
   "outputs": [],
   "source": [
    "import pandas as pd\n",
    "import numpy as np\n",
    "from tqdm.notebook import tqdm\n",
    "from copy import deepcopy\n",
    "from xgboost import XGBRegressor\n",
    "from sklearn.model_selection import RandomizedSearchCV\n",
    "from sklearn.pipeline import Pipeline\n",
    "\n",
    "from my_splitter import MySplitter\n",
    "from my_transformer import MyTransformer\n",
    "\n",
    "tqdm.pandas()\n",
    "\n",
    "ID_SIZE = 20"
   ]
  },
  {
   "cell_type": "code",
   "execution_count": 2,
   "metadata": {},
   "outputs": [
    {
     "data": {
      "text/plain": [
       "'/root/restaurants'"
      ]
     },
     "execution_count": 2,
     "metadata": {},
     "output_type": "execute_result"
    }
   ],
   "source": [
    "import os\n",
    "\n",
    "if os.getcwd() != \"/root/restaurants\":\n",
    "    os.chdir(\"..\")\n",
    "os.getcwd()"
   ]
  },
  {
   "cell_type": "code",
   "execution_count": 3,
   "metadata": {},
   "outputs": [],
   "source": [
    "store_info = pd.read_csv(\"data/raw/air_store_info.csv\")\n",
    "store_info = store_info.rename(\n",
    "    columns={\n",
    "        \"air_store_id\": \"store_id\",\n",
    "        \"air_genre_name\": \"genre_name\",\n",
    "        \"air_area_name\": \"area_name\",\n",
    "    }\n",
    ")\n",
    "\n",
    "date_info = pd.read_csv(\"data/raw/date_info.csv\")\n",
    "date_info = date_info.rename(columns={\"calendar_date\": \"date\"})\n",
    "date_info[\"date\"] = date_info[\"date\"].astype(\"string\")"
   ]
  },
  {
   "cell_type": "code",
   "execution_count": 4,
   "metadata": {},
   "outputs": [],
   "source": [
    "submission = pd.read_csv(\"data/raw/sample_submission.csv\")\n",
    "data = pd.read_csv(\"data/processed/data.csv\")\n",
    "data[\"date\"] = pd.to_datetime(data[\"date\"])\n",
    "data.head()\n",
    "\n",
    "new_submission = deepcopy(submission)\n",
    "new_submission[\"store_id\"] = new_submission[\"id\"].str[:ID_SIZE]\n",
    "new_submission[\"date\"] = new_submission[\"id\"].str[ID_SIZE + 1 :]\n",
    "\n",
    "new_submission = pd.merge(new_submission, date_info, on=\"date\")\n",
    "new_submission = pd.merge(new_submission, store_info, on=\"store_id\")\n",
    "\n",
    "new_submission[\"date\"] = pd.to_datetime(new_submission[\"date\"])\n",
    "new_submission[\"year\"] = new_submission[\"date\"].dt.year\n",
    "new_submission[\"month\"] = new_submission[\"date\"].dt.month\n",
    "new_submission[\"day\"] = new_submission[\"date\"].dt.day"
   ]
  },
  {
   "cell_type": "code",
   "execution_count": 5,
   "metadata": {},
   "outputs": [],
   "source": [
    "data = data[\n",
    "    [\n",
    "        \"store_id\",\n",
    "        \"date\",\n",
    "        \"day_of_week\",\n",
    "        \"holiday_flg\",\n",
    "        \"genre_name\",\n",
    "        \"area_name\",\n",
    "        \"latitude\",\n",
    "        \"longitude\",\n",
    "        \"year\",\n",
    "        \"month\",\n",
    "        \"day\",\n",
    "        \"visitors\",\n",
    "    ]\n",
    "]\n",
    "\n",
    "X = data.drop(columns=[\"visitors\"]).reset_index(drop=True)\n",
    "y = data[\"visitors\"].reset_index(drop=True)"
   ]
  },
  {
   "cell_type": "code",
   "execution_count": 6,
   "metadata": {},
   "outputs": [],
   "source": [
    "def to_category(data): \n",
    "    data = data.copy()   \n",
    "    for c in data.columns:\n",
    "        col_type = data[c].dtype\n",
    "        if (\n",
    "            col_type == \"object\"\n",
    "            or col_type.name == \"category\"\n",
    "            or col_type.name == \"datetime64[ns]\"\n",
    "        ):\n",
    "            data[c] = data[c].astype(\"category\")\n",
    "    return data"
   ]
  },
  {
   "cell_type": "code",
   "execution_count": 7,
   "metadata": {},
   "outputs": [],
   "source": [
    "from skforecast.plot import set_dark_theme\n",
    "from skforecast.preprocessing import series_long_to_dict\n",
    "from skforecast.preprocessing import exog_long_to_dict\n",
    "from skforecast.ForecasterAutoregMultiSeries import ForecasterAutoregMultiSeries\n",
    "from skforecast.model_selection_multiseries import backtesting_forecaster_multiseries\n",
    "from skforecast.model_selection_multiseries import bayesian_search_forecaster_multiseries"
   ]
  },
  {
   "cell_type": "code",
   "execution_count": 8,
   "metadata": {},
   "outputs": [],
   "source": [
    "series_dict = series_long_to_dict(\n",
    "    data      = data,\n",
    "    series_id = 'store_id',\n",
    "    index     = 'date',\n",
    "    values    = 'visitors',\n",
    "    freq      = 'D'\n",
    ")"
   ]
  },
  {
   "cell_type": "code",
   "execution_count": 9,
   "metadata": {},
   "outputs": [
    {
     "data": {
      "text/plain": [
       "2016-07-01     24.0\n",
       "2016-07-02     47.0\n",
       "2016-07-03      NaN\n",
       "2016-07-04      3.0\n",
       "2016-07-05      7.0\n",
       "              ...  \n",
       "2017-04-18      4.0\n",
       "2017-04-19     47.0\n",
       "2017-04-20    110.0\n",
       "2017-04-21     30.0\n",
       "2017-04-22     18.0\n",
       "Freq: D, Name: air_00a91d42b08b08d9, Length: 296, dtype: float64"
      ]
     },
     "execution_count": 9,
     "metadata": {},
     "output_type": "execute_result"
    }
   ],
   "source": [
    "series_dict['air_00a91d42b08b08d9']"
   ]
  },
  {
   "cell_type": "code",
   "execution_count": null,
   "metadata": {},
   "outputs": [
    {
     "data": {
      "text/plain": [
       "============================ \n",
       "ForecasterAutoregMultiSeries \n",
       "============================ \n",
       "Regressor: XGBRegressor(base_score=None, booster=None, callbacks=None,\n",
       "             colsample_bylevel=None, colsample_bynode=None,\n",
       "             colsample_bytree=None, device=None, early_stopping_rounds=None,\n",
       "             enable_categorical=True, eval_metric=None, feature_types=None,\n",
       "             gamma=None, grow_policy=None, importance_type=None,\n",
       "             interaction_constraints=None, learning_rate=None, max_bin=None,\n",
       "             max_cat_threshold=None, max_cat_to_onehot=None,\n",
       "             max_delta_step=None, max_depth=None, max_leaves=None,\n",
       "             min_child_weight=None, missing=nan, monotone_constraints=None,\n",
       "             multi_strategy=None, n_estimators=None, n_jobs=None,\n",
       "             num_parallel_tree=None, objective='reg:squaredlogerror', ...) \n",
       "Lags: [ 1  2  3  4  5  6  7  8  9 10 11 12 13 14] \n",
       "Transformer for series: None \n",
       "Transformer for exog: None \n",
       "Series encoding: ordinal \n",
       "Window size: 14 \n",
       "Series levels (names): air_00a91d42b08b08d9, air_0164b9927d20bcc3, air_0241aa3964b7f861, air_0328696196e46f18, air_034a3d5b40d5b1b1, ... \n",
       "Series weights: None \n",
       "Weight function included: False \n",
       "Differentiation order: None \n",
       "Exogenous included: False \n",
       "Type of exogenous variable: None \n",
       "Exogenous variables names: None \n",
       "Training range: 'air_00a91d42b08b08d9': ['2016-07-01', '2017-04-22'], 'air_0164b9927d20bcc3': ['2016-10-03', '2017-04-22'], 'air_0241aa3964b7f861': ['2016-01-03', '2017-04-22'], ... \n",
       "Training index type: DatetimeIndex \n",
       "Training index frequency: D \n",
       "Regressor parameters: objective: reg:squaredlogerror, base_score: None, booster: None, callbacks: None, colsample_bylevel: None, ... \n",
       "fit_kwargs: {} \n",
       "Creation date: 2024-10-31 16:20:01 \n",
       "Last fit date: 2024-10-31 16:20:04 \n",
       "Skforecast version: 0.13.0 \n",
       "Python version: 3.12.4 \n",
       "Forecaster id: None "
      ]
     },
     "execution_count": 30,
     "metadata": {},
     "output_type": "execute_result"
    }
   ],
   "source": [
    "regressor = XGBRegressor(\n",
    "                objective=\"reg:squaredlogerror\",\n",
    "                random_state=42,\n",
    "                enable_categorical=True,\n",
    "            )\n",
    "forecaster = ForecasterAutoregMultiSeries(\n",
    "                 regressor          = regressor, \n",
    "                 lags               = 14, \n",
    "                 encoding           = \"ordinal\", \n",
    "                 dropna_from_series = False\n",
    "             )\n",
    "\n",
    "forecaster.fit(series=series_dict, suppress_warnings=True)\n",
    "forecaster"
   ]
  },
  {
   "cell_type": "code",
   "execution_count": null,
   "metadata": {},
   "outputs": [],
   "source": [
    "pipeline = Pipeline(\n",
    "    steps=[\n",
    "        (\"transformer\", MyTransformer()),\n",
    "        (\n",
    "            \"model\",\n",
    "            XGBRegressor(\n",
    "                objective=\"reg:squaredlogerror\",\n",
    "                random_state=42,\n",
    "                enable_categorical=True,\n",
    "            ),\n",
    "        ),\n",
    "    ]\n",
    ")\n",
    "\n",
    "\n",
    "param_grid = {\n",
    "    \"model__n_estimators\": [5, 10, 20, 30, 40, 50, 70],\n",
    "    \"model__learning_rate\": [0.001, 0.01, 0.03, 0.05, 0.1, 0.3, 0.5],\n",
    "    \"model__max_depth\": np.arange(2, 20, 1),\n",
    "}\n",
    "\n",
    "validation_size = new_submission[\"date\"].nunique()\n",
    "cv = MySplitter(test_size=validation_size)\n",
    "rscv = RandomizedSearchCV(\n",
    "    estimator=pipeline,\n",
    "    cv=cv,\n",
    "    param_distributions=param_grid,\n",
    "    scoring=\"neg_root_mean_squared_log_error\",\n",
    "    # n_jobs=-1,\n",
    "    verbose=10,\n",
    "    n_iter=1,\n",
    ")\n",
    "\n",
    "X = to_category(data).drop(columns=[\"visitors\"]).reset_index(drop=True)\n",
    "y = data[\"visitors\"].reset_index(drop=True)\n",
    "\n",
    "rscv.fit(X, y)"
   ]
  }
 ],
 "metadata": {
  "kernelspec": {
   "display_name": "analytics",
   "language": "python",
   "name": "python3"
  },
  "language_info": {
   "codemirror_mode": {
    "name": "ipython",
    "version": 3
   },
   "file_extension": ".py",
   "mimetype": "text/x-python",
   "name": "python",
   "nbconvert_exporter": "python",
   "pygments_lexer": "ipython3",
   "version": "3.12.4"
  }
 },
 "nbformat": 4,
 "nbformat_minor": 2
}
