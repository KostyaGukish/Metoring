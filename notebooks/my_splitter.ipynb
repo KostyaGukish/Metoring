{
 "cells": [
  {
   "cell_type": "code",
   "execution_count": 1,
   "metadata": {},
   "outputs": [],
   "source": [
    "import pandas as pd\n",
    "import math\n",
    "import logging\n",
    "from sklearn.model_selection import TimeSeriesSplit\n",
    "from copy import deepcopy\n",
    "from prophet import Prophet\n",
    "from prophet.serialize import model_to_json\n",
    "\n",
    "\n",
    "from eval import my_grid_search_cv\n",
    "\n",
    "logging.getLogger(\"prophet\").setLevel(logging.CRITICAL)\n",
    "logging.getLogger(\"cmdstanpy\").setLevel(logging.CRITICAL)\n",
    "\n",
    "logging.getLogger(\"fbprophet.forecaster\").propagate = False\n",
    "\n",
    "# from tqdm import tqdm\n",
    "# tqdm.pandas()"
   ]
  },
  {
   "cell_type": "code",
   "execution_count": 2,
   "metadata": {},
   "outputs": [
    {
     "data": {
      "text/plain": [
       "'/root/restaurants'"
      ]
     },
     "execution_count": 2,
     "metadata": {},
     "output_type": "execute_result"
    }
   ],
   "source": [
    "import os\n",
    "\n",
    "if os.getcwd() != \"/root/restaurants\":\n",
    "    os.chdir(\"..\")\n",
    "os.getcwd()"
   ]
  },
  {
   "cell_type": "code",
   "execution_count": 3,
   "metadata": {},
   "outputs": [
    {
     "data": {
      "text/html": [
       "<div>\n",
       "<style scoped>\n",
       "    .dataframe tbody tr th:only-of-type {\n",
       "        vertical-align: middle;\n",
       "    }\n",
       "\n",
       "    .dataframe tbody tr th {\n",
       "        vertical-align: top;\n",
       "    }\n",
       "\n",
       "    .dataframe thead th {\n",
       "        text-align: right;\n",
       "    }\n",
       "</style>\n",
       "<table border=\"1\" class=\"dataframe\">\n",
       "  <thead>\n",
       "    <tr style=\"text-align: right;\">\n",
       "      <th></th>\n",
       "      <th>air_store_id</th>\n",
       "      <th>visit_date</th>\n",
       "      <th>visitors</th>\n",
       "    </tr>\n",
       "  </thead>\n",
       "  <tbody>\n",
       "    <tr>\n",
       "      <th>0</th>\n",
       "      <td>air_ba937bf13d40fb24</td>\n",
       "      <td>2016-01-13</td>\n",
       "      <td>25</td>\n",
       "    </tr>\n",
       "    <tr>\n",
       "      <th>1</th>\n",
       "      <td>air_ba937bf13d40fb24</td>\n",
       "      <td>2016-01-14</td>\n",
       "      <td>32</td>\n",
       "    </tr>\n",
       "    <tr>\n",
       "      <th>2</th>\n",
       "      <td>air_ba937bf13d40fb24</td>\n",
       "      <td>2016-01-15</td>\n",
       "      <td>29</td>\n",
       "    </tr>\n",
       "    <tr>\n",
       "      <th>3</th>\n",
       "      <td>air_ba937bf13d40fb24</td>\n",
       "      <td>2016-01-16</td>\n",
       "      <td>22</td>\n",
       "    </tr>\n",
       "    <tr>\n",
       "      <th>4</th>\n",
       "      <td>air_ba937bf13d40fb24</td>\n",
       "      <td>2016-01-18</td>\n",
       "      <td>6</td>\n",
       "    </tr>\n",
       "  </tbody>\n",
       "</table>\n",
       "</div>"
      ],
      "text/plain": [
       "           air_store_id  visit_date  visitors\n",
       "0  air_ba937bf13d40fb24  2016-01-13        25\n",
       "1  air_ba937bf13d40fb24  2016-01-14        32\n",
       "2  air_ba937bf13d40fb24  2016-01-15        29\n",
       "3  air_ba937bf13d40fb24  2016-01-16        22\n",
       "4  air_ba937bf13d40fb24  2016-01-18         6"
      ]
     },
     "execution_count": 3,
     "metadata": {},
     "output_type": "execute_result"
    }
   ],
   "source": [
    "air_visit_data = pd.read_csv(\"data/raw/air_visit_data.csv\")\n",
    "data = deepcopy(air_visit_data)\n",
    "data.head()"
   ]
  },
  {
   "cell_type": "code",
   "execution_count": 4,
   "metadata": {},
   "outputs": [
    {
     "data": {
      "text/html": [
       "<div>\n",
       "<style scoped>\n",
       "    .dataframe tbody tr th:only-of-type {\n",
       "        vertical-align: middle;\n",
       "    }\n",
       "\n",
       "    .dataframe tbody tr th {\n",
       "        vertical-align: top;\n",
       "    }\n",
       "\n",
       "    .dataframe thead th {\n",
       "        text-align: right;\n",
       "    }\n",
       "</style>\n",
       "<table border=\"1\" class=\"dataframe\">\n",
       "  <thead>\n",
       "    <tr style=\"text-align: right;\">\n",
       "      <th></th>\n",
       "      <th>calendar_date</th>\n",
       "      <th>holiday_flg</th>\n",
       "    </tr>\n",
       "  </thead>\n",
       "  <tbody>\n",
       "    <tr>\n",
       "      <th>0</th>\n",
       "      <td>2016-01-01</td>\n",
       "      <td>1</td>\n",
       "    </tr>\n",
       "    <tr>\n",
       "      <th>1</th>\n",
       "      <td>2016-01-02</td>\n",
       "      <td>1</td>\n",
       "    </tr>\n",
       "    <tr>\n",
       "      <th>2</th>\n",
       "      <td>2016-01-03</td>\n",
       "      <td>1</td>\n",
       "    </tr>\n",
       "    <tr>\n",
       "      <th>3</th>\n",
       "      <td>2016-01-04</td>\n",
       "      <td>0</td>\n",
       "    </tr>\n",
       "    <tr>\n",
       "      <th>4</th>\n",
       "      <td>2016-01-05</td>\n",
       "      <td>0</td>\n",
       "    </tr>\n",
       "  </tbody>\n",
       "</table>\n",
       "</div>"
      ],
      "text/plain": [
       "  calendar_date  holiday_flg\n",
       "0    2016-01-01            1\n",
       "1    2016-01-02            1\n",
       "2    2016-01-03            1\n",
       "3    2016-01-04            0\n",
       "4    2016-01-05            0"
      ]
     },
     "execution_count": 4,
     "metadata": {},
     "output_type": "execute_result"
    }
   ],
   "source": [
    "date_info = pd.read_csv(\"data/raw/date_info.csv\")\n",
    "date_info = date_info.drop(columns=[\"day_of_week\"])\n",
    "date_info.head()"
   ]
  },
  {
   "cell_type": "code",
   "execution_count": 5,
   "metadata": {},
   "outputs": [
    {
     "data": {
      "text/html": [
       "<div>\n",
       "<style scoped>\n",
       "    .dataframe tbody tr th:only-of-type {\n",
       "        vertical-align: middle;\n",
       "    }\n",
       "\n",
       "    .dataframe tbody tr th {\n",
       "        vertical-align: top;\n",
       "    }\n",
       "\n",
       "    .dataframe thead th {\n",
       "        text-align: right;\n",
       "    }\n",
       "</style>\n",
       "<table border=\"1\" class=\"dataframe\">\n",
       "  <thead>\n",
       "    <tr style=\"text-align: right;\">\n",
       "      <th></th>\n",
       "      <th>holiday</th>\n",
       "      <th>ds</th>\n",
       "    </tr>\n",
       "  </thead>\n",
       "  <tbody>\n",
       "    <tr>\n",
       "      <th>0</th>\n",
       "      <td>holiday</td>\n",
       "      <td>2016-01-01</td>\n",
       "    </tr>\n",
       "    <tr>\n",
       "      <th>1</th>\n",
       "      <td>holiday</td>\n",
       "      <td>2016-01-02</td>\n",
       "    </tr>\n",
       "    <tr>\n",
       "      <th>2</th>\n",
       "      <td>holiday</td>\n",
       "      <td>2016-01-03</td>\n",
       "    </tr>\n",
       "    <tr>\n",
       "      <th>3</th>\n",
       "      <td>holiday</td>\n",
       "      <td>2016-01-11</td>\n",
       "    </tr>\n",
       "    <tr>\n",
       "      <th>4</th>\n",
       "      <td>holiday</td>\n",
       "      <td>2016-02-11</td>\n",
       "    </tr>\n",
       "  </tbody>\n",
       "</table>\n",
       "</div>"
      ],
      "text/plain": [
       "   holiday          ds\n",
       "0  holiday  2016-01-01\n",
       "1  holiday  2016-01-02\n",
       "2  holiday  2016-01-03\n",
       "3  holiday  2016-01-11\n",
       "4  holiday  2016-02-11"
      ]
     },
     "execution_count": 5,
     "metadata": {},
     "output_type": "execute_result"
    }
   ],
   "source": [
    "holidays = (\n",
    "    date_info[date_info[\"holiday_flg\"] == 1]\n",
    "    .rename(columns={\"holiday_flg\": \"holiday\", \"calendar_date\": \"ds\"})\n",
    "    .reset_index(drop=True)\n",
    ")\n",
    "holidays = holidays[[\"holiday\", \"ds\"]]\n",
    "holidays[\"holiday\"] = \"holiday\"\n",
    "holidays.head()"
   ]
  },
  {
   "cell_type": "code",
   "execution_count": 6,
   "metadata": {},
   "outputs": [],
   "source": [
    "X = data[data[\"air_store_id\"] == \"air_ba937bf13d40fb24\"][[\"visit_date\"]]\n",
    "y = data[data[\"air_store_id\"] == \"air_ba937bf13d40fb24\"][[\"visitors\"]]"
   ]
  },
  {
   "cell_type": "code",
   "execution_count": 7,
   "metadata": {},
   "outputs": [
    {
     "name": "stdout",
     "output_type": "stream",
     "text": [
      "<class 'pandas.core.frame.DataFrame'>\n",
      "Index: 391 entries, 0 to 390\n",
      "Data columns (total 2 columns):\n",
      " #   Column      Non-Null Count  Dtype         \n",
      "---  ------      --------------  -----         \n",
      " 0   visit_date  391 non-null    datetime64[ns]\n",
      " 1   visitors    391 non-null    int64         \n",
      "dtypes: datetime64[ns](1), int64(1)\n",
      "memory usage: 9.2 KB\n"
     ]
    }
   ],
   "source": [
    "X = data[data[\"air_store_id\"] == \"air_ba937bf13d40fb24\"].drop(columns=[\"air_store_id\"])\n",
    "X[\"visit_date\"] = pd.to_datetime(X[\"visit_date\"])\n",
    "# X = X.set_index(\"visit_date\")\n",
    "X.info()"
   ]
  },
  {
   "cell_type": "code",
   "execution_count": 8,
   "metadata": {},
   "outputs": [
    {
     "data": {
      "text/html": [
       "<div>\n",
       "<style scoped>\n",
       "    .dataframe tbody tr th:only-of-type {\n",
       "        vertical-align: middle;\n",
       "    }\n",
       "\n",
       "    .dataframe tbody tr th {\n",
       "        vertical-align: top;\n",
       "    }\n",
       "\n",
       "    .dataframe thead th {\n",
       "        text-align: right;\n",
       "    }\n",
       "</style>\n",
       "<table border=\"1\" class=\"dataframe\">\n",
       "  <thead>\n",
       "    <tr style=\"text-align: right;\">\n",
       "      <th></th>\n",
       "      <th>visit_date</th>\n",
       "      <th>visitors</th>\n",
       "    </tr>\n",
       "  </thead>\n",
       "  <tbody>\n",
       "    <tr>\n",
       "      <th>370</th>\n",
       "      <td>2017-04-01</td>\n",
       "      <td>32</td>\n",
       "    </tr>\n",
       "    <tr>\n",
       "      <th>371</th>\n",
       "      <td>2017-04-02</td>\n",
       "      <td>4</td>\n",
       "    </tr>\n",
       "    <tr>\n",
       "      <th>372</th>\n",
       "      <td>2017-04-03</td>\n",
       "      <td>4</td>\n",
       "    </tr>\n",
       "    <tr>\n",
       "      <th>373</th>\n",
       "      <td>2017-04-04</td>\n",
       "      <td>32</td>\n",
       "    </tr>\n",
       "    <tr>\n",
       "      <th>374</th>\n",
       "      <td>2017-04-05</td>\n",
       "      <td>19</td>\n",
       "    </tr>\n",
       "  </tbody>\n",
       "</table>\n",
       "</div>"
      ],
      "text/plain": [
       "    visit_date  visitors\n",
       "370 2017-04-01        32\n",
       "371 2017-04-02         4\n",
       "372 2017-04-03         4\n",
       "373 2017-04-04        32\n",
       "374 2017-04-05        19"
      ]
     },
     "execution_count": 8,
     "metadata": {},
     "output_type": "execute_result"
    }
   ],
   "source": [
    "# X.groupby(pd.Grouper(key=\"visit_date\", freq=\"1ME\")).mean()\n",
    "X.sort_values(\"visit_date\")\n",
    "for col_val, temp in X.groupby(pd.Grouper(key=\"visit_date\", freq=\"1ME\")):\n",
    "    q = temp\n",
    "temp.head()"
   ]
  },
  {
   "cell_type": "code",
   "execution_count": 9,
   "metadata": {},
   "outputs": [
    {
     "data": {
      "text/plain": [
       "Timestamp('2024-10-02 16:46:54.111227')"
      ]
     },
     "execution_count": 9,
     "metadata": {},
     "output_type": "execute_result"
    }
   ],
   "source": [
    "pd.Timestamp.now()"
   ]
  },
  {
   "cell_type": "code",
   "execution_count": 10,
   "metadata": {},
   "outputs": [],
   "source": [
    "import numpy as np"
   ]
  },
  {
   "cell_type": "code",
   "execution_count": 26,
   "metadata": {},
   "outputs": [],
   "source": [
    "def split_data(data, k, period = \"month\"):\n",
    "    latest_date = data['visit_date'].max()\n",
    "    \n",
    "    month = latest_date - pd.DateOffset(months=k)\n",
    "    next_month = latest_date - pd.DateOffset(months=k-1)\n",
    "\n",
    "    if period == \"week\":\n",
    "        month = latest_date - pd.DateOffset(weeks=k)\n",
    "        next_month = latest_date - pd.DateOffset(weeks=k-1)\n",
    "    \n",
    "    test = np.array(data[(data['visit_date'] >= month) & (data['visit_date'] < next_month)].index)\n",
    "    train = np.array(data[data['visit_date'] < month].index)\n",
    "\n",
    "    return train, test"
   ]
  },
  {
   "cell_type": "code",
   "execution_count": 34,
   "metadata": {},
   "outputs": [
    {
     "data": {
      "text/plain": [
       "<PeriodArray>\n",
       "['2016-01', '2016-02', '2016-03', '2016-04', '2016-05', '2016-06', '2016-07',\n",
       " '2016-08', '2016-09', '2016-10', '2016-11', '2016-12', '2017-01', '2017-02',\n",
       " '2017-03', '2017-04']\n",
       "Length: 16, dtype: period[M]"
      ]
     },
     "execution_count": 34,
     "metadata": {},
     "output_type": "execute_result"
    }
   ],
   "source": [
    "X\n",
    "X['year_month'] = X['visit_date'].dt.to_period('M')  # Creates a 'YYYY-MM' format\n",
    "    \n",
    "# Count unique year-month combinations\n",
    "unique_months = X['visit_date'].dt.to_period('M').unique()\n",
    "unique_months"
   ]
  },
  {
   "cell_type": "code",
   "execution_count": 27,
   "metadata": {},
   "outputs": [],
   "source": [
    "def split(X, n=5, type=\"standard\"):\n",
    "    if type == \"standard\":\n",
    "        for i in range(n, 0, -1):\n",
    "            yield split_data(X, i, \"month\")\n",
    "    else: \n",
    "        for i in range(2, 0, -1):\n",
    "            yield split_data(X, i, \"week\")"
   ]
  },
  {
   "cell_type": "code",
   "execution_count": 29,
   "metadata": {},
   "outputs": [
    {
     "name": "stdout",
     "output_type": "stream",
     "text": [
      "2\n"
     ]
    },
    {
     "data": {
      "text/plain": [
       "array([383, 384, 385, 386, 387, 388, 389])"
      ]
     },
     "execution_count": 29,
     "metadata": {},
     "output_type": "execute_result"
    }
   ],
   "source": [
    "for train_index, test_index in split(X, \"small\"):"
   ]
  },
  {
   "cell_type": "code",
   "execution_count": null,
   "metadata": {},
   "outputs": [],
   "source": [
    "# def fit_for_each_store(directory, model, data):\n",
    "\n",
    "from tqdm.auto import tqdm\n",
    "\n",
    "tqdm.pandas()\n",
    "\n",
    "small = []\n",
    "\n",
    "directory = \"models/prophet_for_each_store_with_holidays\"\n",
    "os.makedirs(directory, exist_ok=True)\n",
    "\n",
    "models = dict()\n",
    "\n",
    "param_grid = {\n",
    "    \"changepoint_prior_scale\": [0.001, 0.01, 0.1, 0.5],\n",
    "    \"seasonality_prior_scale\": [0.01, 0.1, 1, 10],\n",
    "    \"seasonality_mode\": [\"additive\", \"multiplicative\"],\n",
    "    \"holidays\": [holidays],\n",
    "}\n",
    "\n",
    "for store_id, store_data in tqdm(data.groupby(\"air_store_id\")):\n",
    "\n",
    "    if store_data.shape[0] <= 65:\n",
    "        small.append(store_id)\n",
    "\n",
    "    if store_id == \"air_17bed6dbf7c8b0fc\":\n",
    "        param_grid = {\n",
    "            \"changepoint_prior_scale\": [0.001, 0.1, 0.5],\n",
    "            \"seasonality_prior_scale\": [0.01, 0.1, 1, 10],\n",
    "            \"seasonality_mode\": [\"additive\", \"multiplicative\"],\n",
    "            \"holidays\": [holidays],\n",
    "        }\n",
    "    \n",
    "    print(store_id, store_data.shape[0])\n",
    "\n",
    "    file_path = os.path.join(directory, f\"model_{store_id}.json\")\n",
    "\n",
    "    if os.path.exists(file_path):\n",
    "        continue\n",
    "\n",
    "    X = store_data[[\"visit_date\"]].reset_index(drop=True)\n",
    "    y = store_data[[\"visitors\"]].reset_index(drop=True)\n",
    "\n",
    "    n_splits = max(min(math.trunc((store_data.shape[0] - 5) / 30), 5), 2)\n",
    "\n",
    "    cv = TimeSeriesSplit(n_splits=n_splits, gap=3, test_size=30)\n",
    "\n",
    "    if store_data.shape[0] <= 65:\n",
    "        small.append(store_id)\n",
    "        cv = TimeSeriesSplit(\n",
    "            n_splits=2, gap=1, test_size=int(store_data.shape[0] * 0.2)\n",
    "        )\n",
    "\n",
    "    params = my_grid_search_cv(Prophet, X, y, param_grid, cv=cv, n_jobs=5)\n",
    "\n",
    "    models[store_id] = Prophet(**params)\n",
    "\n",
    "    df = pd.concat([X, y], axis=1)\n",
    "    df = df.rename(columns={\"visit_date\": \"ds\", \"visitors\": \"y\"})\n",
    "    models[store_id].fit(df)\n",
    "\n",
    "    with open(file_path, \"w\") as fout:\n",
    "        fout.write(model_to_json(models[store_id]))"
   ]
  },
  {
   "cell_type": "code",
   "execution_count": null,
   "metadata": {},
   "outputs": [],
   "source": [
    "param_grid = {\n",
    "    \"changepoint_prior_scale\": [0.001, 0.01, 0.1, 0.5],\n",
    "    \"seasonality_prior_scale\": [0.01, 0.1, 1, 10],\n",
    "    \"seasonality_mode\": [\"additive\", \"multiplicative\"],\n",
    "    \"holidays\": [holidays],\n",
    "}\n",
    "\n",
    "cv = split_ind(n=5)\n",
    "\n",
    "# params = my_grid_search_cv(Prophet, X, y, param_grid, cv=cv, n_jobs=5)"
   ]
  }
 ],
 "metadata": {
  "kernelspec": {
   "display_name": "analytics",
   "language": "python",
   "name": "python3"
  },
  "language_info": {
   "codemirror_mode": {
    "name": "ipython",
    "version": 3
   },
   "file_extension": ".py",
   "mimetype": "text/x-python",
   "name": "python",
   "nbconvert_exporter": "python",
   "pygments_lexer": "ipython3",
   "version": "3.12.4"
  }
 },
 "nbformat": 4,
 "nbformat_minor": 2
}
