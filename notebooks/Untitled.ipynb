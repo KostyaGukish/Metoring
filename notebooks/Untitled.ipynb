{
 "cells": [
  {
   "cell_type": "code",
   "execution_count": 3,
   "id": "02729974-8f15-4134-addc-c7f3f902bf18",
   "metadata": {},
   "outputs": [
    {
     "ename": "ModuleNotFoundError",
     "evalue": "No module named 'loguru'",
     "output_type": "error",
     "traceback": [
      "\u001b[0;31m---------------------------------------------------------------------------\u001b[0m",
      "\u001b[0;31mModuleNotFoundError\u001b[0m                       Traceback (most recent call last)",
      "Cell \u001b[0;32mIn[3], line 5\u001b[0m\n\u001b[1;32m      1\u001b[0m \u001b[38;5;28;01mimport\u001b[39;00m \u001b[38;5;21;01msys\u001b[39;00m\n\u001b[1;32m      3\u001b[0m sys\u001b[38;5;241m.\u001b[39mpath\u001b[38;5;241m.\u001b[39mappend(\u001b[38;5;124m\"\u001b[39m\u001b[38;5;124m..\u001b[39m\u001b[38;5;124m\"\u001b[39m)\n\u001b[0;32m----> 5\u001b[0m \u001b[38;5;28;01mfrom\u001b[39;00m \u001b[38;5;21;01mrestaurants\u001b[39;00m\u001b[38;5;21;01m.\u001b[39;00m\u001b[38;5;21;01mmodeling\u001b[39;00m\u001b[38;5;21;01m.\u001b[39;00m\u001b[38;5;21;01mtmp\u001b[39;00m \u001b[38;5;28;01mimport\u001b[39;00m test_import\n\u001b[1;32m      7\u001b[0m \u001b[38;5;28mprint\u001b[39m(test_import())\n",
      "File \u001b[0;32m~/restaurants/notebooks/../restaurants/__init__.py:1\u001b[0m\n\u001b[0;32m----> 1\u001b[0m \u001b[38;5;28;01mfrom\u001b[39;00m \u001b[38;5;21;01mrestaurants\u001b[39;00m \u001b[38;5;28;01mimport\u001b[39;00m config\n",
      "File \u001b[0;32m~/restaurants/notebooks/../restaurants/config.py:4\u001b[0m\n\u001b[1;32m      1\u001b[0m \u001b[38;5;28;01mfrom\u001b[39;00m \u001b[38;5;21;01mpathlib\u001b[39;00m \u001b[38;5;28;01mimport\u001b[39;00m Path\n\u001b[1;32m      3\u001b[0m \u001b[38;5;28;01mfrom\u001b[39;00m \u001b[38;5;21;01mdotenv\u001b[39;00m \u001b[38;5;28;01mimport\u001b[39;00m load_dotenv\n\u001b[0;32m----> 4\u001b[0m \u001b[38;5;28;01mfrom\u001b[39;00m \u001b[38;5;21;01mloguru\u001b[39;00m \u001b[38;5;28;01mimport\u001b[39;00m logger\n\u001b[1;32m      6\u001b[0m \u001b[38;5;66;03m# Load environment variables from .env file if it exists\u001b[39;00m\n\u001b[1;32m      7\u001b[0m load_dotenv()\n",
      "\u001b[0;31mModuleNotFoundError\u001b[0m: No module named 'loguru'"
     ]
    }
   ],
   "source": [
    "import sys\n",
    "\n",
    "sys.path.append(\"..\")\n",
    "\n",
    "from restaurants.modeling.tmp import test_import\n",
    "\n",
    "print(test_import())"
   ]
  },
  {
   "cell_type": "code",
   "execution_count": 1,
   "id": "8696ed59-6e2e-40e2-9ae6-60d4c7a97144",
   "metadata": {},
   "outputs": [],
   "source": [
    "import random\n",
    "\n",
    "small = [random.randint(0, 2**8) for i in range(100000)]\n",
    "medium = [random.randint(2**8, 2**16) for i in range(100000)]\n",
    "long_ = [random.randint(2**16, 2**32) for i in range(100000)]\n",
    "long_long = [random.randint(2**32, 2**64) for i in range(100000)]\n",
    "extra = [random.randint(2**70, 2**100) for i in range(100000)]\n",
    "all = small + medium + long_ + long_long + extra\n",
    "\n",
    "values = ['small', 'medium', 'long_', 'long_long', 'extra', 'all']"
   ]
  },
  {
   "cell_type": "code",
   "execution_count": 2,
   "id": "459ffae9",
   "metadata": {},
   "outputs": [
    {
     "data": {
      "text/plain": [
       "['small', 'medium', 'long_', 'long_long', 'extra', 'all']"
      ]
     },
     "execution_count": 2,
     "metadata": {},
     "output_type": "execute_result"
    }
   ],
   "source": [
    "values"
   ]
  }
 ],
 "metadata": {
  "kernelspec": {
   "display_name": "Python 3 (ipykernel)",
   "language": "python",
   "name": "python3"
  },
  "language_info": {
   "codemirror_mode": {
    "name": "ipython",
    "version": 3
   },
   "file_extension": ".py",
   "mimetype": "text/x-python",
   "name": "python",
   "nbconvert_exporter": "python",
   "pygments_lexer": "ipython3",
   "version": "3.12.4"
  }
 },
 "nbformat": 4,
 "nbformat_minor": 5
}
