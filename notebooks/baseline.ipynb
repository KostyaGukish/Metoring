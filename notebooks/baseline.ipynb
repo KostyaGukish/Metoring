{
 "cells": [
  {
   "cell_type": "code",
   "execution_count": 1,
   "metadata": {},
   "outputs": [
    {
     "data": {
      "text/plain": [
       "'/root/restaurants/data/raw'"
      ]
     },
     "execution_count": 1,
     "metadata": {},
     "output_type": "execute_result"
    }
   ],
   "source": [
    "import os\n",
    "os.chdir(\"../data/raw\")\n",
    "os.getcwd()"
   ]
  },
  {
   "cell_type": "code",
   "execution_count": 2,
   "metadata": {},
   "outputs": [],
   "source": [
    "import pandas as pd\n",
    "from sklearn.model_selection import GridSearchCV, TimeSeriesSplit, cross_val_score, cross_validate\n",
    "from sklearn.dummy import DummyRegressor"
   ]
  },
  {
   "cell_type": "code",
   "execution_count": 3,
   "metadata": {},
   "outputs": [],
   "source": [
    "air_visit_data = pd.read_csv(\"air_visit_data.csv\")\n",
    "# air_visit_data['visit_date'] = pd.to_datetime(air_visit_data['visit_date'])"
   ]
  },
  {
   "cell_type": "code",
   "execution_count": 4,
   "metadata": {},
   "outputs": [
    {
     "data": {
      "text/html": [
       "<div>\n",
       "<style scoped>\n",
       "    .dataframe tbody tr th:only-of-type {\n",
       "        vertical-align: middle;\n",
       "    }\n",
       "\n",
       "    .dataframe tbody tr th {\n",
       "        vertical-align: top;\n",
       "    }\n",
       "\n",
       "    .dataframe thead th {\n",
       "        text-align: right;\n",
       "    }\n",
       "</style>\n",
       "<table border=\"1\" class=\"dataframe\">\n",
       "  <thead>\n",
       "    <tr style=\"text-align: right;\">\n",
       "      <th></th>\n",
       "      <th>visit_date</th>\n",
       "      <th>visitors</th>\n",
       "    </tr>\n",
       "  </thead>\n",
       "  <tbody>\n",
       "    <tr>\n",
       "      <th>0</th>\n",
       "      <td>2016-01-13</td>\n",
       "      <td>25.0</td>\n",
       "    </tr>\n",
       "    <tr>\n",
       "      <th>1</th>\n",
       "      <td>2016-01-14</td>\n",
       "      <td>32.0</td>\n",
       "    </tr>\n",
       "    <tr>\n",
       "      <th>2</th>\n",
       "      <td>2016-01-15</td>\n",
       "      <td>29.0</td>\n",
       "    </tr>\n",
       "    <tr>\n",
       "      <th>3</th>\n",
       "      <td>2016-01-16</td>\n",
       "      <td>22.0</td>\n",
       "    </tr>\n",
       "    <tr>\n",
       "      <th>4</th>\n",
       "      <td>2016-01-18</td>\n",
       "      <td>6.0</td>\n",
       "    </tr>\n",
       "    <tr>\n",
       "      <th>...</th>\n",
       "      <td>...</td>\n",
       "      <td>...</td>\n",
       "    </tr>\n",
       "    <tr>\n",
       "      <th>386</th>\n",
       "      <td>2017-04-18</td>\n",
       "      <td>11.0</td>\n",
       "    </tr>\n",
       "    <tr>\n",
       "      <th>387</th>\n",
       "      <td>2017-04-19</td>\n",
       "      <td>11.0</td>\n",
       "    </tr>\n",
       "    <tr>\n",
       "      <th>388</th>\n",
       "      <td>2017-04-20</td>\n",
       "      <td>14.0</td>\n",
       "    </tr>\n",
       "    <tr>\n",
       "      <th>389</th>\n",
       "      <td>2017-04-21</td>\n",
       "      <td>40.0</td>\n",
       "    </tr>\n",
       "    <tr>\n",
       "      <th>390</th>\n",
       "      <td>2017-04-22</td>\n",
       "      <td>23.0</td>\n",
       "    </tr>\n",
       "  </tbody>\n",
       "</table>\n",
       "<p>391 rows × 2 columns</p>\n",
       "</div>"
      ],
      "text/plain": [
       "     visit_date  visitors\n",
       "0    2016-01-13      25.0\n",
       "1    2016-01-14      32.0\n",
       "2    2016-01-15      29.0\n",
       "3    2016-01-16      22.0\n",
       "4    2016-01-18       6.0\n",
       "..          ...       ...\n",
       "386  2017-04-18      11.0\n",
       "387  2017-04-19      11.0\n",
       "388  2017-04-20      14.0\n",
       "389  2017-04-21      40.0\n",
       "390  2017-04-22      23.0\n",
       "\n",
       "[391 rows x 2 columns]"
      ]
     },
     "execution_count": 4,
     "metadata": {},
     "output_type": "execute_result"
    }
   ],
   "source": [
    "data = air_visit_data.where(air_visit_data[\"air_store_id\"] == \"air_ba937bf13d40fb24\").dropna().reset_index(drop = True)\n",
    "data = data.drop(columns=[\"air_store_id\"])\n",
    "data"
   ]
  },
  {
   "cell_type": "code",
   "execution_count": 5,
   "metadata": {},
   "outputs": [],
   "source": [
    "X = data[[\"visit_date\"]]\n",
    "y = data[[\"visitors\"]]"
   ]
  },
  {
   "cell_type": "code",
   "execution_count": 6,
   "metadata": {},
   "outputs": [],
   "source": [
    "import pandas as pd\n",
    "import numpy as np\n",
    "from sklearn.model_selection import GridSearchCV, TimeSeriesSplit, cross_val_score\n",
    "from sklearn import svm\n",
    "from sklearn.metrics import root_mean_squared_log_error\n",
    "from copy import deepcopy"
   ]
  },
  {
   "cell_type": "code",
   "execution_count": 7,
   "metadata": {},
   "outputs": [],
   "source": [
    "from eval import my_nested_cv"
   ]
  },
  {
   "cell_type": "code",
   "execution_count": 8,
   "metadata": {},
   "outputs": [],
   "source": [
    "from prophet import Prophet\n",
    "import logging\n",
    "logging.getLogger(\"prophet\").setLevel(logging.ERROR)\n",
    "logging.getLogger(\"cmdstanpy\").disabled=True"
   ]
  },
  {
   "cell_type": "code",
   "execution_count": 9,
   "metadata": {},
   "outputs": [
    {
     "name": "stdout",
     "output_type": "stream",
     "text": [
      "NestedCV: 1 of outer fold 5\n",
      "Score: 0.5590467271383507 \n",
      "\n",
      "NestedCV: 2 of outer fold 5\n",
      "Score: 0.5696546826206523 \n",
      "\n",
      "NestedCV: 3 of outer fold 5\n",
      "Score: 0.3571747724269832 \n",
      "\n",
      "NestedCV: 4 of outer fold 5\n",
      "Score: 0.49526026387310573 \n",
      "\n",
      "NestedCV: 5 of outer fold 5\n",
      "Score: 0.3881454795816534 \n",
      "\n",
      "Overall test performance: 0.4738563851281491\n"
     ]
    }
   ],
   "source": [
    "reg = Prophet\n",
    "\n",
    "param_grid = {  \n",
    "    'changepoint_prior_scale': [0.001, 0.01, 0.1, 0.5],\n",
    "    'seasonality_prior_scale': [0.01, 0.1, 1.0, 10.0],\n",
    "}\n",
    "\n",
    "my_nested_cv(reg, X, y, param_grid)\n"
   ]
  },
  {
   "cell_type": "code",
   "execution_count": 10,
   "metadata": {},
   "outputs": [
    {
     "name": "stdout",
     "output_type": "stream",
     "text": [
      "NestedCV: 1 of outer fold 5\n",
      "Score: 0.7774891990598184 \n",
      "\n",
      "NestedCV: 2 of outer fold 5\n",
      "Score: 0.6801533092102668 \n",
      "\n",
      "NestedCV: 3 of outer fold 5\n",
      "Score: 0.8549704479338557 \n",
      "\n",
      "NestedCV: 4 of outer fold 5\n",
      "Score: 0.8783354107953781 \n",
      "\n",
      "NestedCV: 5 of outer fold 5\n",
      "Score: 0.826168015493569 \n",
      "\n",
      "Overall test performance: 0.8034232764985776\n"
     ]
    }
   ],
   "source": [
    "reg = DummyRegressor\n",
    "\n",
    "p_grid = {\"strategy\": [\"mean\", \"median\"]}\n",
    "\n",
    "my_nested_cv(reg, X, y, p_grid)"
   ]
  }
 ],
 "metadata": {
  "kernelspec": {
   "display_name": "analytics",
   "language": "python",
   "name": "python3"
  },
  "language_info": {
   "codemirror_mode": {
    "name": "ipython",
    "version": 3
   },
   "file_extension": ".py",
   "mimetype": "text/x-python",
   "name": "python",
   "nbconvert_exporter": "python",
   "pygments_lexer": "ipython3",
   "version": "3.12.4"
  }
 },
 "nbformat": 4,
 "nbformat_minor": 2
}
