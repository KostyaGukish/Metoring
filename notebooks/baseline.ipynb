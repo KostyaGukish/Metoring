{
 "cells": [
  {
   "cell_type": "code",
   "execution_count": 31,
   "metadata": {},
   "outputs": [
    {
     "ename": "FileNotFoundError",
     "evalue": "[Errno 2] No such file or directory: '../data/raw'",
     "output_type": "error",
     "traceback": [
      "\u001b[0;31m---------------------------------------------------------------------------\u001b[0m",
      "\u001b[0;31mFileNotFoundError\u001b[0m                         Traceback (most recent call last)",
      "Cell \u001b[0;32mIn[31], line 2\u001b[0m\n\u001b[1;32m      1\u001b[0m \u001b[38;5;28;01mimport\u001b[39;00m \u001b[38;5;21;01mos\u001b[39;00m\n\u001b[0;32m----> 2\u001b[0m os\u001b[38;5;241m.\u001b[39mchdir(\u001b[38;5;124m\"\u001b[39m\u001b[38;5;124m../data/raw\u001b[39m\u001b[38;5;124m\"\u001b[39m)\n\u001b[1;32m      3\u001b[0m os\u001b[38;5;241m.\u001b[39mgetcwd()\n",
      "\u001b[0;31mFileNotFoundError\u001b[0m: [Errno 2] No such file or directory: '../data/raw'"
     ]
    }
   ],
   "source": [
    "import os\n",
    "os.chdir(\"../data/raw\")\n",
    "os.getcwd()"
   ]
  },
  {
   "cell_type": "code",
   "execution_count": 73,
   "metadata": {},
   "outputs": [],
   "source": [
    "import pandas as pd\n",
    "from sklearn.model_selection import GridSearchCV, TimeSeriesSplit, cross_val_score, cross_validate\n",
    "from sklearn.dummy import DummyRegressor"
   ]
  },
  {
   "cell_type": "code",
   "execution_count": 61,
   "metadata": {},
   "outputs": [],
   "source": [
    "air_visit_data = pd.read_csv(\"air_visit_data.csv\")\n",
    "air_visit_data['visit_date'] = pd.to_datetime(air_visit_data['visit_date'])"
   ]
  },
  {
   "cell_type": "code",
   "execution_count": 48,
   "metadata": {},
   "outputs": [
    {
     "data": {
      "text/html": [
       "<div>\n",
       "<style scoped>\n",
       "    .dataframe tbody tr th:only-of-type {\n",
       "        vertical-align: middle;\n",
       "    }\n",
       "\n",
       "    .dataframe tbody tr th {\n",
       "        vertical-align: top;\n",
       "    }\n",
       "\n",
       "    .dataframe thead th {\n",
       "        text-align: right;\n",
       "    }\n",
       "</style>\n",
       "<table border=\"1\" class=\"dataframe\">\n",
       "  <thead>\n",
       "    <tr style=\"text-align: right;\">\n",
       "      <th></th>\n",
       "      <th>visit_date</th>\n",
       "      <th>visitors</th>\n",
       "    </tr>\n",
       "  </thead>\n",
       "  <tbody>\n",
       "    <tr>\n",
       "      <th>0</th>\n",
       "      <td>2016-01-13</td>\n",
       "      <td>25.0</td>\n",
       "    </tr>\n",
       "    <tr>\n",
       "      <th>1</th>\n",
       "      <td>2016-01-14</td>\n",
       "      <td>32.0</td>\n",
       "    </tr>\n",
       "    <tr>\n",
       "      <th>2</th>\n",
       "      <td>2016-01-15</td>\n",
       "      <td>29.0</td>\n",
       "    </tr>\n",
       "    <tr>\n",
       "      <th>3</th>\n",
       "      <td>2016-01-16</td>\n",
       "      <td>22.0</td>\n",
       "    </tr>\n",
       "    <tr>\n",
       "      <th>4</th>\n",
       "      <td>2016-01-18</td>\n",
       "      <td>6.0</td>\n",
       "    </tr>\n",
       "    <tr>\n",
       "      <th>...</th>\n",
       "      <td>...</td>\n",
       "      <td>...</td>\n",
       "    </tr>\n",
       "    <tr>\n",
       "      <th>386</th>\n",
       "      <td>2017-04-18</td>\n",
       "      <td>11.0</td>\n",
       "    </tr>\n",
       "    <tr>\n",
       "      <th>387</th>\n",
       "      <td>2017-04-19</td>\n",
       "      <td>11.0</td>\n",
       "    </tr>\n",
       "    <tr>\n",
       "      <th>388</th>\n",
       "      <td>2017-04-20</td>\n",
       "      <td>14.0</td>\n",
       "    </tr>\n",
       "    <tr>\n",
       "      <th>389</th>\n",
       "      <td>2017-04-21</td>\n",
       "      <td>40.0</td>\n",
       "    </tr>\n",
       "    <tr>\n",
       "      <th>390</th>\n",
       "      <td>2017-04-22</td>\n",
       "      <td>23.0</td>\n",
       "    </tr>\n",
       "  </tbody>\n",
       "</table>\n",
       "<p>391 rows × 2 columns</p>\n",
       "</div>"
      ],
      "text/plain": [
       "    visit_date  visitors\n",
       "0   2016-01-13      25.0\n",
       "1   2016-01-14      32.0\n",
       "2   2016-01-15      29.0\n",
       "3   2016-01-16      22.0\n",
       "4   2016-01-18       6.0\n",
       "..         ...       ...\n",
       "386 2017-04-18      11.0\n",
       "387 2017-04-19      11.0\n",
       "388 2017-04-20      14.0\n",
       "389 2017-04-21      40.0\n",
       "390 2017-04-22      23.0\n",
       "\n",
       "[391 rows x 2 columns]"
      ]
     },
     "execution_count": 48,
     "metadata": {},
     "output_type": "execute_result"
    }
   ],
   "source": [
    "data = air_visit_data.where(air_visit_data[\"air_store_id\"] == \"air_ba937bf13d40fb24\").dropna().reset_index(drop = True)\n",
    "data = data.drop(columns=[\"air_store_id\"])\n",
    "data"
   ]
  },
  {
   "cell_type": "code",
   "execution_count": 102,
   "metadata": {},
   "outputs": [],
   "source": [
    "X = data[[\"visit_date\"]]\n",
    "y = data[[\"visitors\"]]"
   ]
  },
  {
   "cell_type": "code",
   "execution_count": 107,
   "metadata": {},
   "outputs": [],
   "source": [
    "def cross_val(estimator, X, y, p_grid, inner_splits=5, outer_splits=5, inner_gap=3, outer_gap=3, test_size = 30):\n",
    "    inner_cv = TimeSeriesSplit(n_splits=inner_splits, gap=inner_gap, test_size=test_size)\n",
    "    outer_cv = TimeSeriesSplit(n_splits=outer_splits, gap=outer_gap, test_size=test_size)\n",
    "\n",
    "    model = GridSearchCV(estimator=estimator, \n",
    "                         param_grid=p_grid, \n",
    "                         cv=inner_cv, \n",
    "                         scoring='neg_root_mean_squared_error')\n",
    "    \n",
    "    cv_results = cross_validate(model, \n",
    "                                X=X, \n",
    "                                y=y, \n",
    "                                cv=outer_cv, \n",
    "                                scoring='neg_root_mean_squared_error',\n",
    "                                return_estimator=True)\n",
    "    \n",
    "    \n",
    "    # print(cv_results['test_score'].mean())\n",
    "    return cv_results\n",
    "    # print(cv_results)"
   ]
  },
  {
   "cell_type": "code",
   "execution_count": 127,
   "metadata": {},
   "outputs": [
    {
     "name": "stdout",
     "output_type": "stream",
     "text": [
      "{'constant': None, 'quantile': None, 'strategy': 'mean'}\n",
      "{'constant': None, 'quantile': None, 'strategy': 'mean'}\n",
      "{'constant': None, 'quantile': None, 'strategy': 'median'}\n",
      "{'constant': None, 'quantile': None, 'strategy': 'median'}\n",
      "{'constant': None, 'quantile': None, 'strategy': 'median'}\n"
     ]
    },
    {
     "data": {
      "text/plain": [
       "{'fit_time': array([0.09828091, 0.07845545, 0.05742097, 0.05319786, 0.04924345]),\n",
       " 'score_time': array([0.00168228, 0.00254846, 0.00217724, 0.00137591, 0.00173116]),\n",
       " 'estimator': [GridSearchCV(cv=TimeSeriesSplit(gap=3, max_train_size=None, n_splits=5, test_size=30),\n",
       "               estimator=DummyRegressor(),\n",
       "               param_grid={'strategy': ['mean', 'median']},\n",
       "               scoring='neg_root_mean_squared_error'),\n",
       "  GridSearchCV(cv=TimeSeriesSplit(gap=3, max_train_size=None, n_splits=5, test_size=30),\n",
       "               estimator=DummyRegressor(),\n",
       "               param_grid={'strategy': ['mean', 'median']},\n",
       "               scoring='neg_root_mean_squared_error'),\n",
       "  GridSearchCV(cv=TimeSeriesSplit(gap=3, max_train_size=None, n_splits=5, test_size=30),\n",
       "               estimator=DummyRegressor(),\n",
       "               param_grid={'strategy': ['mean', 'median']},\n",
       "               scoring='neg_root_mean_squared_error'),\n",
       "  GridSearchCV(cv=TimeSeriesSplit(gap=3, max_train_size=None, n_splits=5, test_size=30),\n",
       "               estimator=DummyRegressor(),\n",
       "               param_grid={'strategy': ['mean', 'median']},\n",
       "               scoring='neg_root_mean_squared_error'),\n",
       "  GridSearchCV(cv=TimeSeriesSplit(gap=3, max_train_size=None, n_splits=5, test_size=30),\n",
       "               estimator=DummyRegressor(),\n",
       "               param_grid={'strategy': ['mean', 'median']},\n",
       "               scoring='neg_root_mean_squared_error')],\n",
       " 'test_score': array([-12.82723013, -12.7454849 , -12.15730233, -13.16814338,\n",
       "        -11.61895004])}"
      ]
     },
     "execution_count": 127,
     "metadata": {},
     "output_type": "execute_result"
    }
   ],
   "source": [
    "from sklearn import svm\n",
    "\n",
    "reg = svm.SVR()\n",
    "p_grid = {\"C\": [1, 10], \"gamma\": [0.01, 0.1]}\n",
    "\n",
    "reg = DummyRegressor()\n",
    "\n",
    "p_grid = {\"strategy\": [\"mean\", \"median\"]}\n",
    "\n",
    "reg = cross_val(reg, X, y, p_grid)\n",
    "# reg.predict(X)\n",
    "print(reg['estimator'][0].best_estimator_.get_params())\n",
    "print(reg['estimator'][1].best_estimator_.get_params())\n",
    "print(reg['estimator'][2].best_estimator_.get_params())\n",
    "print(reg['estimator'][3].best_estimator_.get_params())\n",
    "print(reg['estimator'][4].best_estimator_.get_params())\n",
    "reg\n"
   ]
  },
  {
   "cell_type": "code",
   "execution_count": null,
   "metadata": {},
   "outputs": [],
   "source": []
  }
 ],
 "metadata": {
  "kernelspec": {
   "display_name": "analytics",
   "language": "python",
   "name": "python3"
  },
  "language_info": {
   "codemirror_mode": {
    "name": "ipython",
    "version": 3
   },
   "file_extension": ".py",
   "mimetype": "text/x-python",
   "name": "python",
   "nbconvert_exporter": "python",
   "pygments_lexer": "ipython3",
   "version": "3.12.4"
  }
 },
 "nbformat": 4,
 "nbformat_minor": 2
}
