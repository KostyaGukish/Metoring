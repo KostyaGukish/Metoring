{
 "cells": [
  {
   "cell_type": "code",
   "execution_count": 2,
   "metadata": {},
   "outputs": [
    {
     "name": "stdout",
     "output_type": "stream",
     "text": [
      "<class 'pandas.core.frame.DataFrame'>\n",
      "RangeIndex: 252108 entries, 0 to 252107\n",
      "Data columns (total 36 columns):\n",
      " #   Column                          Non-Null Count   Dtype         \n",
      "---  ------                          --------------   -----         \n",
      " 0   store_id                        252108 non-null  object        \n",
      " 1   visit_date                      252108 non-null  datetime64[ns]\n",
      " 2   visitors                        252108 non-null  int64         \n",
      " 3   day_of_week                     252108 non-null  object        \n",
      " 4   holiday_flg                     252108 non-null  int64         \n",
      " 5   genre_name                      252108 non-null  object        \n",
      " 6   area_name                       252108 non-null  object        \n",
      " 7   latitude                        252108 non-null  float64       \n",
      " 8   longitude                       252108 non-null  float64       \n",
      " 9   year                            252108 non-null  int64         \n",
      " 10  month                           252108 non-null  int64         \n",
      " 11  day                             252108 non-null  int64         \n",
      " 12  lag_area_genre_day_of_week_21   252108 non-null  float64       \n",
      " 13  lag_area_genre_holiday_flg_21   252108 non-null  float64       \n",
      " 14  lag_day_of_week_21              252108 non-null  float64       \n",
      " 15  lag_holiday_flg_21              252108 non-null  float64       \n",
      " 16  lag_area_genre_day_of_week_35   252108 non-null  float64       \n",
      " 17  lag_area_genre_holiday_flg_35   252108 non-null  float64       \n",
      " 18  lag_day_of_week_35              252108 non-null  float64       \n",
      " 19  lag_holiday_flg_35              252108 non-null  float64       \n",
      " 20  lag_area_genre_day_of_week_63   252108 non-null  float64       \n",
      " 21  lag_area_genre_holiday_flg_63   252108 non-null  float64       \n",
      " 22  lag_day_of_week_63              252108 non-null  float64       \n",
      " 23  lag_holiday_flg_63              252108 non-null  float64       \n",
      " 24  lag_area_genre_day_of_week_140  252108 non-null  float64       \n",
      " 25  lag_area_genre_holiday_flg_140  252108 non-null  float64       \n",
      " 26  lag_day_of_week_140             252108 non-null  float64       \n",
      " 27  lag_holiday_flg_140             252108 non-null  float64       \n",
      " 28  lag_area_genre_day_of_week_280  252108 non-null  float64       \n",
      " 29  lag_area_genre_holiday_flg_280  252108 non-null  float64       \n",
      " 30  lag_day_of_week_280             252108 non-null  float64       \n",
      " 31  lag_holiday_flg_280             252108 non-null  float64       \n",
      " 32  lag_area_genre_day_of_week_350  252108 non-null  float64       \n",
      " 33  lag_area_genre_holiday_flg_350  252108 non-null  float64       \n",
      " 34  lag_day_of_week_350             252108 non-null  float64       \n",
      " 35  lag_holiday_flg_350             252108 non-null  float64       \n",
      "dtypes: datetime64[ns](1), float64(26), int64(5), object(4)\n",
      "memory usage: 69.2+ MB\n"
     ]
    },
    {
     "ename": "ModuleNotFoundError",
     "evalue": "No module named 'lightgbm'",
     "output_type": "error",
     "traceback": [
      "\u001b[0;31m---------------------------------------------------------------------------\u001b[0m",
      "\u001b[0;31mModuleNotFoundError\u001b[0m                       Traceback (most recent call last)",
      "Cell \u001b[0;32mIn[2], line 35\u001b[0m\n\u001b[1;32m     32\u001b[0m y \u001b[38;5;241m=\u001b[39m data[[\u001b[38;5;124m\"\u001b[39m\u001b[38;5;124mvisitors\u001b[39m\u001b[38;5;124m\"\u001b[39m]]\u001b[38;5;241m.\u001b[39mreset_index(drop\u001b[38;5;241m=\u001b[39m\u001b[38;5;28;01mTrue\u001b[39;00m)\n\u001b[1;32m     33\u001b[0m \u001b[38;5;66;03m# X\u001b[39;00m\n\u001b[0;32m---> 35\u001b[0m \u001b[38;5;28;01mimport\u001b[39;00m \u001b[38;5;21;01mlightgbm\u001b[39;00m \u001b[38;5;28;01mas\u001b[39;00m \u001b[38;5;21;01mlgb\u001b[39;00m\n\u001b[1;32m     36\u001b[0m param_grid \u001b[38;5;241m=\u001b[39m {\n\u001b[1;32m     37\u001b[0m     \u001b[38;5;124m\"\u001b[39m\u001b[38;5;124mmax_depth\u001b[39m\u001b[38;5;124m\"\u001b[39m: [\u001b[38;5;241m3\u001b[39m, \u001b[38;5;241m4\u001b[39m, \u001b[38;5;241m6\u001b[39m, \u001b[38;5;241m5\u001b[39m, \u001b[38;5;241m10\u001b[39m],\n\u001b[1;32m     38\u001b[0m     \u001b[38;5;124m\"\u001b[39m\u001b[38;5;124mnum_leaves\u001b[39m\u001b[38;5;124m\"\u001b[39m: [\u001b[38;5;241m10\u001b[39m, \u001b[38;5;241m20\u001b[39m, \u001b[38;5;241m30\u001b[39m, \u001b[38;5;241m40\u001b[39m, \u001b[38;5;241m100\u001b[39m, \u001b[38;5;241m120\u001b[39m],\n\u001b[0;32m   (...)\u001b[0m\n\u001b[1;32m     42\u001b[0m     \u001b[38;5;124m\"\u001b[39m\u001b[38;5;124mdevice\u001b[39m\u001b[38;5;124m\"\u001b[39m: [\u001b[38;5;124m\"\u001b[39m\u001b[38;5;124mgpu\u001b[39m\u001b[38;5;124m\"\u001b[39m]\n\u001b[1;32m     43\u001b[0m }\n\u001b[1;32m     44\u001b[0m \u001b[38;5;28;01mfor\u001b[39;00m c \u001b[38;5;129;01min\u001b[39;00m X\u001b[38;5;241m.\u001b[39mcolumns:\n",
      "\u001b[0;31mModuleNotFoundError\u001b[0m: No module named 'lightgbm'"
     ]
    }
   ],
   "source": [
    "import pandas as pd\n",
    "import math\n",
    "import logging\n",
    "from sklearn.model_selection import TimeSeriesSplit\n",
    "from copy import deepcopy\n",
    "from prophet import Prophet\n",
    "from prophet.serialize import model_to_json\n",
    "\n",
    "\n",
    "from eval import my_grid_search_cv\n",
    "\n",
    "# from tqdm import tqdm\n",
    "# tqdm.pandas()"
   ]
  },
  {
   "cell_type": "code",
   "execution_count": null,
   "metadata": {},
   "outputs": [],
   "source": [
    "import os\n",
    "\n",
    "if os.getcwd() != \"/root/restaurants\":\n",
    "    os.chdir(\"..\")\n",
    "os.getcwd()"
   ]
  },
  {
   "cell_type": "code",
   "execution_count": null,
   "metadata": {},
   "outputs": [],
   "source": [
    "data = pd.read_csv(\"data/processed/data.csv\")\n",
    "data.head()\n",
    "\n",
    "data[\"date\"] = pd.to_datetime(data[\"date\"])\n",
    "data = data.rename(columns={\"date\": \"visit_date\"})\n",
    "\n",
    "data.info()"
   ]
  },
  {
   "cell_type": "code",
   "execution_count": null,
   "metadata": {},
   "outputs": [],
   "source": [
    "data = data[data[\"store_id\"] == \"air_00a91d42b08b08d9\"]\n",
    "\n",
    "X = data.drop(columns=[\"visitors\", \"visit_date\"]).reset_index(drop=True)\n",
    "y = data[[\"visitors\"]].reset_index(drop=True)\n",
    "# X\n",
    "\n"
   ]
  },
  {
   "cell_type": "code",
   "execution_count": null,
   "metadata": {},
   "outputs": [],
   "source": [
    "import lightgbm as lgb\n",
    "param_grid = {\n",
    "    \"max_depth\": [3, 4, 6, 5, 10],\n",
    "    \"num_leaves\": [10, 20, 30, 40, 100, 120],\n",
    "    \"learning_rate\": [0.01, 0.05, 0.1, 0.2, 0.3],\n",
    "    \"n_estimators\": [50, 100, 300, 500, 700, 900, 1000],\n",
    "    \"colsample_bytree\": [0.3, 0.5, 0.7, 1],\n",
    "    \"device\": [\"gpu\"]\n",
    "}\n",
    "for c in X.columns:\n",
    "    col_type = X[c].dtype\n",
    "    if col_type == 'object' or col_type.name == 'category':\n",
    "        X[c] = X[c].astype('category')\n",
    "\n",
    "params = my_grid_search_cv(lgb.LGBMRegressor, X, y, param_grid, n_jobs=-1)\n",
    "model = lgb.LGBMRegressor(**params)\n",
    "model.fit(X, y)"
   ]
  }
 ],
 "metadata": {
  "kernelspec": {
   "display_name": "analytics",
   "language": "python",
   "name": "python3"
  },
  "language_info": {
   "codemirror_mode": {
    "name": "ipython",
    "version": 3
   },
   "file_extension": ".py",
   "mimetype": "text/x-python",
   "name": "python",
   "nbconvert_exporter": "python",
   "pygments_lexer": "ipython3",
   "version": "3.12.4"
  }
 },
 "nbformat": 4,
 "nbformat_minor": 2
}
